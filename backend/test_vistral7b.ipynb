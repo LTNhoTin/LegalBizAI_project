{
 "cells": [
  {
   "cell_type": "code",
   "execution_count": 1,
   "metadata": {},
   "outputs": [
    {
     "name": "stderr",
     "output_type": "stream",
     "text": [
      "c:\\Users\\nguyen\\miniconda3\\envs\\ai2\\Lib\\site-packages\\sentence_transformers\\cross_encoder\\CrossEncoder.py:11: TqdmExperimentalWarning: Using `tqdm.autonotebook.tqdm` in notebook mode. Use `tqdm.tqdm` instead to force console mode (e.g. in jupyter console)\n",
      "  from tqdm.autonotebook import tqdm, trange\n",
      "c:\\Users\\nguyen\\miniconda3\\envs\\ai2\\Lib\\site-packages\\transformers\\utils\\generic.py:441: UserWarning: torch.utils._pytree._register_pytree_node is deprecated. Please use torch.utils._pytree.register_pytree_node instead.\n",
      "  _torch_pytree._register_pytree_node(\n",
      "c:\\Users\\nguyen\\miniconda3\\envs\\ai2\\Lib\\site-packages\\transformers\\utils\\generic.py:309: UserWarning: torch.utils._pytree._register_pytree_node is deprecated. Please use torch.utils._pytree.register_pytree_node instead.\n",
      "  _torch_pytree._register_pytree_node(\n"
     ]
    },
    {
     "name": "stdout",
     "output_type": "stream",
     "text": [
      "The token has not been saved to the git credentials helper. Pass `add_to_git_credential=True` in this function directly or `--add-to-git-credential` if using via `huggingface-cli` if you want to set the git credential as well.\n",
      "Token is valid (permission: read).\n",
      "Your token has been saved to C:\\Users\\nguyen\\.cache\\huggingface\\token\n",
      "Login successful\n"
     ]
    },
    {
     "name": "stderr",
     "output_type": "stream",
     "text": [
      "c:\\Users\\nguyen\\miniconda3\\envs\\ai2\\Lib\\site-packages\\huggingface_hub\\file_download.py:1132: FutureWarning: `resume_download` is deprecated and will be removed in version 1.0.0. Downloads always resume when possible. If you want to force a new download, use `force_download=True`.\n",
      "  warnings.warn(\n",
      "Special tokens have been added in the vocabulary, make sure the associated word embeddings are fine-tuned or trained.\n"
     ]
    },
    {
     "data": {
      "application/vnd.jupyter.widget-view+json": {
       "model_id": "1695e6455b834293a95f641de1aca7f7",
       "version_major": 2,
       "version_minor": 0
      },
      "text/plain": [
       "Loading checkpoint shards:   0%|          | 0/2 [00:00<?, ?it/s]"
      ]
     },
     "metadata": {},
     "output_type": "display_data"
    },
    {
     "name": "stderr",
     "output_type": "stream",
     "text": [
      "You shouldn't move a model that is dispatched using accelerate hooks.\n"
     ]
    },
    {
     "ename": "ValueError",
     "evalue": "`.to` is not supported for `4-bit` or `8-bit` bitsandbytes models. Please use the model as it is, since the model has already been set to the correct devices and casted to the correct `dtype`.",
     "output_type": "error",
     "traceback": [
      "\u001b[1;31m---------------------------------------------------------------------------\u001b[0m",
      "\u001b[1;31mValueError\u001b[0m                                Traceback (most recent call last)",
      "Cell \u001b[1;32mIn[1], line 8\u001b[0m\n\u001b[0;32m      6\u001b[0m \u001b[38;5;28;01mimport\u001b[39;00m \u001b[38;5;21;01mtimeit\u001b[39;00m\n\u001b[0;32m      7\u001b[0m \u001b[38;5;28;01mfrom\u001b[39;00m \u001b[38;5;21;01mutils\u001b[39;00m \u001b[38;5;28;01mimport\u001b[39;00m get_prompt\n\u001b[1;32m----> 8\u001b[0m \u001b[38;5;28;01mfrom\u001b[39;00m \u001b[38;5;21;01mgeneration\u001b[39;00m \u001b[38;5;28;01mimport\u001b[39;00m vistral7b\n\u001b[0;32m     10\u001b[0m model \u001b[38;5;241m=\u001b[39m vistral7b\u001b[38;5;241m.\u001b[39mmodel\n\u001b[0;32m     11\u001b[0m tokenizer \u001b[38;5;241m=\u001b[39m vistral7b\u001b[38;5;241m.\u001b[39mtokenizer\n",
      "File \u001b[1;32md:\\Study\\University\\FPT University\\My University Materials\\Semesters\\Sem05_Summer2024\\Project QAI\\LegalBizAI_project\\backend\\generation\\vistral7b.py:35\u001b[0m\n\u001b[0;32m     27\u001b[0m tokenizer \u001b[38;5;241m=\u001b[39m AutoTokenizer\u001b[38;5;241m.\u001b[39mfrom_pretrained(model_path)\n\u001b[0;32m     28\u001b[0m model \u001b[38;5;241m=\u001b[39m AutoModelForCausalLM\u001b[38;5;241m.\u001b[39mfrom_pretrained(\n\u001b[0;32m     29\u001b[0m     model_path,\n\u001b[0;32m     30\u001b[0m     quantization_config\u001b[38;5;241m=\u001b[39mbnb_config,\n\u001b[1;32m   (...)\u001b[0m\n\u001b[0;32m     33\u001b[0m     use_cache\u001b[38;5;241m=\u001b[39m\u001b[38;5;28;01mTrue\u001b[39;00m,\n\u001b[0;32m     34\u001b[0m )\n\u001b[1;32m---> 35\u001b[0m \u001b[43mmodel\u001b[49m\u001b[38;5;241;43m.\u001b[39;49m\u001b[43mto\u001b[49m\u001b[43m(\u001b[49m\u001b[38;5;124;43m\"\u001b[39;49m\u001b[38;5;124;43mcuda\u001b[39;49m\u001b[38;5;124;43m\"\u001b[39;49m\u001b[43m)\u001b[49m\n\u001b[0;32m     36\u001b[0m \u001b[38;5;66;03m# if model_path == model_id:\u001b[39;00m\n\u001b[0;32m     37\u001b[0m \u001b[38;5;66;03m#     model.config.save_pretrained(PATHS[\"VISTRAL_7B_MODEL\"])\u001b[39;00m\n\u001b[0;32m     38\u001b[0m \u001b[38;5;66;03m#     tokenizer.save_pretrained(PATHS[\"VISTRAL_7B_MODEL\"])\u001b[39;00m\n\u001b[0;32m     40\u001b[0m device \u001b[38;5;241m=\u001b[39m torch\u001b[38;5;241m.\u001b[39mdevice(\u001b[38;5;124m\"\u001b[39m\u001b[38;5;124mcuda\u001b[39m\u001b[38;5;124m\"\u001b[39m \u001b[38;5;28;01mif\u001b[39;00m torch\u001b[38;5;241m.\u001b[39mcuda\u001b[38;5;241m.\u001b[39mis_available() \u001b[38;5;28;01melse\u001b[39;00m \u001b[38;5;124m\"\u001b[39m\u001b[38;5;124mcpu\u001b[39m\u001b[38;5;124m\"\u001b[39m)\n",
      "File \u001b[1;32mc:\\Users\\nguyen\\miniconda3\\envs\\ai2\\Lib\\site-packages\\accelerate\\big_modeling.py:456\u001b[0m, in \u001b[0;36mdispatch_model.<locals>.add_warning.<locals>.wrapper\u001b[1;34m(*args, **kwargs)\u001b[0m\n\u001b[0;32m    454\u001b[0m     \u001b[38;5;28;01mif\u001b[39;00m param\u001b[38;5;241m.\u001b[39mdevice \u001b[38;5;241m==\u001b[39m torch\u001b[38;5;241m.\u001b[39mdevice(\u001b[38;5;124m\"\u001b[39m\u001b[38;5;124mmeta\u001b[39m\u001b[38;5;124m\"\u001b[39m):\n\u001b[0;32m    455\u001b[0m         \u001b[38;5;28;01mraise\u001b[39;00m \u001b[38;5;167;01mRuntimeError\u001b[39;00m(\u001b[38;5;124m\"\u001b[39m\u001b[38;5;124mYou can\u001b[39m\u001b[38;5;124m'\u001b[39m\u001b[38;5;124mt move a model that has some modules offloaded to cpu or disk.\u001b[39m\u001b[38;5;124m\"\u001b[39m)\n\u001b[1;32m--> 456\u001b[0m \u001b[38;5;28;01mreturn\u001b[39;00m \u001b[43mfn\u001b[49m\u001b[43m(\u001b[49m\u001b[38;5;241;43m*\u001b[39;49m\u001b[43margs\u001b[49m\u001b[43m,\u001b[49m\u001b[43m \u001b[49m\u001b[38;5;241;43m*\u001b[39;49m\u001b[38;5;241;43m*\u001b[39;49m\u001b[43mkwargs\u001b[49m\u001b[43m)\u001b[49m\n",
      "File \u001b[1;32mc:\\Users\\nguyen\\miniconda3\\envs\\ai2\\Lib\\site-packages\\transformers\\modeling_utils.py:2249\u001b[0m, in \u001b[0;36mPreTrainedModel.to\u001b[1;34m(self, *args, **kwargs)\u001b[0m\n\u001b[0;32m   2245\u001b[0m \u001b[38;5;129m@wraps\u001b[39m(torch\u001b[38;5;241m.\u001b[39mnn\u001b[38;5;241m.\u001b[39mModule\u001b[38;5;241m.\u001b[39mto)\n\u001b[0;32m   2246\u001b[0m \u001b[38;5;28;01mdef\u001b[39;00m \u001b[38;5;21mto\u001b[39m(\u001b[38;5;28mself\u001b[39m, \u001b[38;5;241m*\u001b[39margs, \u001b[38;5;241m*\u001b[39m\u001b[38;5;241m*\u001b[39mkwargs):\n\u001b[0;32m   2247\u001b[0m     \u001b[38;5;66;03m# Checks if the model has been loaded in 8-bit\u001b[39;00m\n\u001b[0;32m   2248\u001b[0m     \u001b[38;5;28;01mif\u001b[39;00m \u001b[38;5;28mgetattr\u001b[39m(\u001b[38;5;28mself\u001b[39m, \u001b[38;5;124m\"\u001b[39m\u001b[38;5;124mquantization_method\u001b[39m\u001b[38;5;124m\"\u001b[39m, \u001b[38;5;28;01mNone\u001b[39;00m) \u001b[38;5;241m==\u001b[39m QuantizationMethod\u001b[38;5;241m.\u001b[39mBITS_AND_BYTES:\n\u001b[1;32m-> 2249\u001b[0m         \u001b[38;5;28;01mraise\u001b[39;00m \u001b[38;5;167;01mValueError\u001b[39;00m(\n\u001b[0;32m   2250\u001b[0m             \u001b[38;5;124m\"\u001b[39m\u001b[38;5;124m`.to` is not supported for `4-bit` or `8-bit` bitsandbytes models. Please use the model as it is, since the\u001b[39m\u001b[38;5;124m\"\u001b[39m\n\u001b[0;32m   2251\u001b[0m             \u001b[38;5;124m\"\u001b[39m\u001b[38;5;124m model has already been set to the correct devices and casted to the correct `dtype`.\u001b[39m\u001b[38;5;124m\"\u001b[39m\n\u001b[0;32m   2252\u001b[0m         )\n\u001b[0;32m   2253\u001b[0m     \u001b[38;5;28;01melif\u001b[39;00m \u001b[38;5;28mgetattr\u001b[39m(\u001b[38;5;28mself\u001b[39m, \u001b[38;5;124m\"\u001b[39m\u001b[38;5;124mquantization_method\u001b[39m\u001b[38;5;124m\"\u001b[39m, \u001b[38;5;28;01mNone\u001b[39;00m) \u001b[38;5;241m==\u001b[39m QuantizationMethod\u001b[38;5;241m.\u001b[39mGPTQ:\n\u001b[0;32m   2254\u001b[0m         \u001b[38;5;66;03m# For GPTQ models, we prevent users from casting the model to another dytpe to restrict unwanted behaviours.\u001b[39;00m\n\u001b[0;32m   2255\u001b[0m         \u001b[38;5;66;03m# the correct API should be to load the model with the desired dtype directly through `from_pretrained`.\u001b[39;00m\n\u001b[0;32m   2256\u001b[0m         dtype_present_in_args \u001b[38;5;241m=\u001b[39m \u001b[38;5;28;01mFalse\u001b[39;00m\n",
      "\u001b[1;31mValueError\u001b[0m: `.to` is not supported for `4-bit` or `8-bit` bitsandbytes models. Please use the model as it is, since the model has already been set to the correct devices and casted to the correct `dtype`."
     ]
    }
   ],
   "source": [
    "%load_ext autoreload\n",
    "%autoreload 2\n",
    "\n",
    "import os\n",
    "import torch\n",
    "import timeit\n",
    "from utils import get_prompt\n",
    "from generation import vistral7b\n",
    "\n",
    "model = vistral7b.model\n",
    "tokenizer = vistral7b.tokenizer\n",
    "device = vistral7b.device\n",
    "device"
   ]
  },
  {
   "cell_type": "code",
   "execution_count": 3,
   "metadata": {},
   "outputs": [
    {
     "name": "stderr",
     "output_type": "stream",
     "text": [
      "The attention mask and the pad token id were not set. As a consequence, you may observe unexpected behavior. Please pass your input's `attention_mask` to obtain reliable results.\n",
      "Setting `pad_token_id` to `eos_token_id`:2 for open-end generation.\n"
     ]
    },
    {
     "name": "stdout",
     "output_type": "stream",
     "text": [
      "Input token count= 1104\n",
      "Câu hỏi: Hội đồng giải thể doanh nghiệp do Nhà nước nắm giữ 100% vốn điều lệ có được quyền sử dụng con dấu của doanh nghiệp hay không?\n",
      "Căn cứ luật:\n",
      "Điều 43. Hội đồng giải thể doanh nghiệp do Nhà nước nắm giữ 100% vốn điều lệ\n",
      "Khoản 1. Người có thẩm quyền quyết định giải thể doanh nghiệp thành lập Hội đồng giải thể doanh nghiệp. Hội đồng giải thể có chức năng tham mưu cho người quyết định giải thể về việc tổ chức thực hiện giải thể doanh nghiệp. Thành phần Hội đồng giải thể thực hiện theo quy định tại khoản 2, khoản 3 Điều này.\n",
      "Khoản 2. Hội đồng giải thể của doanh nghiệp do Thủ tướng Chính phủ quyết định thành lập gồm đại diện các cơ quan sau:\n",
      "Điểm a) Người đứng đầu cơ quan được giao thực hiện chức năng đại diện chủ sở hữu là Chủ tịch Hội đồng giải thể doanh nghiệp;\n",
      "Điểm b) Đại diện các Bộ: Kế hoạch và Đầu tư, Tài chính, Lao động - Thương binh và Xã hội;\n",
      "Điểm c) Đại diện các tổ chức đại diện cho người lao động tại doanh nghiệp bị giải thể;\n",
      "Điểm d) Chủ tịch Hội đồng thành viên hoặc Chủ tịch công ty của doanh nghiệp do Nhà nước nắm giữ 100% vốn điều lệ bị giải thể;\n",
      "Điểm đ) Tùy từng trường hợp cụ thể, có thể mời thêm đại diện các cơ quan, tổ chức khác tham gia Hội đồng giải thể.\n",
      "Khoản 3. Hội đồng giải thể của doanh nghiệp do cơ quan đại diện chủ sở hữu quyết định thành lập hoặc được giao quản lý gồm đại diện các cơ quan sau:\n",
      "Điểm a) Đại diện của cơ quan đại diện chủ sở hữu là Chủ tịch Hội đồng giải thể doanh nghiệp;\n",
      "Điểm b) Đại diện của đơn vị trực thuộc hoặc cơ quan chuyên môn thuộc cơ quan đại diện chủ sở hữu có trách nhiệm quản lý về lĩnh vực tài chính, kế hoạch, lao động;\n",
      "Điểm c) Đại diện các tổ chức đại diện cho người lao động tại doanh nghiệp bị giải thể;\n",
      "Điểm d) Chủ tịch Hội đồng thành viên hoặc Chủ tịch công ty của doanh nghiệp do Nhà nước nắm giữ 100% vốn điều lệ bị giải thể;\n",
      "Điểm đ) Tùy từng trường hợp cụ thể, có thể mời thêm đại diện các cơ quan, tổ chức khác tham gia Hội đồng giải thể.\n",
      "-----\n",
      "Điều 44. Quyền hạn và trách nhiệm của Hội đồng giải thể\n",
      "Khoản 1. Hội đồng giải thể được sử dụng con dấu của doanh nghiệp để phục vụ công tác giải thể và yêu cầu các cơ quan nhà nước có liên quan hỗ trợ việc thu hồi tài sản.\n",
      "Khoản 2. Sau khi có quyết định giải thể và đăng báo giải thể doanh nghiệp, Hội đồng giải thể có trách nhiệm:\n",
      "Điểm a) Thu hồi con dấu của doanh nghiệp bị giải thể để phục vụ việc giải thể;\n",
      "Điểm b) Tổ chức giải thể doanh nghiệp theo Quyết định giải thể đã được phê duyệt; cơ quan đại diện chủ sở hữu hoặc Hội đồng thành viên, Chủ tịch công ty trực tiếp tổ chức thanh lý tài sản của doanh nghiệp, trừ trường hợp Điều lệ doanh nghiệp có quy định khác; việc thanh toán các khoản nợ của doanh nghiệp bị giải thể thực hiện theo thứ tự quy định tại khoản 5 Điều 208 Luật Doanh nghiệp;\n",
      "Điểm c) Trong thời hạn 07 ngày làm việc kể từ ngày kết thúc việc giải thể và thanh toán hết các khoản nợ của doanh nghiệp, Hội đồng giải thể phải lập báo cáo tài chính về giải thể doanh nghiệp, trình người quyết định giải thể doanh nghiệp; lập hồ sơ giải thể doanh nghiệp theo các nội dung quy định tại Điều 210 Luật Doanh nghiệp và gửi đến cơ quan đăng ký kinh doanh nơi đã đăng ký doanh nghiệp.\n",
      "\n",
      "VISTRAL ANSER: Trích dẫn luật:\n",
      "Điều 43. Hội đồng giải thể doanh nghiệp do Nhà nước nắm giữ 100% vốn điều lệ\n",
      "Khoản 1. Người có thẩm quyền quyết định giải thể doanh nghiệp thành lập Hội đồng giải thể doanh nghiệp. Hội đồng giải thể có chức năng tham mưu cho người quyết định giải thể về việc tổ chức thực hiện giải thể doanh nghiệp. Thành phần Hội đồng giải thể thực hiện theo quy định tại khoản 2, khoản 3 Điều này.\n",
      "Khoản 2. Hội đồng giải thể của doanh nghiệp do Thủ tướng Chính phủ quyết định thành lập gồm đại diện các cơ quan sau:\n",
      "Điểm a) Người đứng đầu cơ quan được giao thực hiện chức năng đại diện chủ sở hữu là Chủ tịch Hội đồng giải thể doanh nghiệp;\n",
      "Điểm b) Đại diện các Bộ: Kế hoạch và Đầu tư, Tài chính, Lao động - Thương binh và Xã hội;\n",
      "Điểm c) Đại diện các tổ chức đại diện cho người lao động tại doanh nghiệp bị giải thể;\n",
      "Điểm d) Chủ tịch Hội đồng thành viên hoặc Chủ tịch công ty của doanh nghiệp do Nhà nước nắm giữ 100% vốn điều lệ bị giải thể;\n",
      "Điểm đ) Tùy từng trường hợp cụ thể, có thể mời thêm đại diện các cơ quan, tổ chức khác tham gia Hội đồng giải thể.\n",
      "Khoản 3. Hội đồng giải thể của doanh nghiệp do cơ quan đại diện chủ sở hữu quyết định thành lập hoặc được giao quản lý gồm đại diện các cơ quan sau:\n",
      "Điểm a) Đại diện của cơ quan đại diện chủ sở hữu là Chủ tịch Hội đồng giải thể doanh nghiệp;\n",
      "Điểm b) Đại diện của đơn vị trực thuộc hoặc cơ quan chuyên môn thuộc cơ quan đại diện chủ sở hữu có trách nhiệm quản lý về lĩnh vực tài chính, kế hoạch, lao động;\n",
      "Điểm c) Đại diện các tổ chức đại diện cho người lao động tại doanh nghiệp bị giải thể;\n",
      "Điểm d) Chủ tịch Hội đồng thành viên hoặc Chủ tịch công ty của doanh nghiệp do Nhà nước nắm giữ 100% vốn điều lệ bị giải thể;\n",
      "Điểm đ) Tùy từng trường hợp cụ thể, có thể mời thêm đại diện các cơ quan, tổ chức khác tham gia Hội đồng giải thể.\n",
      "-----\n",
      "Điều 44. Quyền hạn và trách nhiệm của Hội đồng giải thể\n",
      "Khoản 1. Hội đồng giải thể được sử dụng con dấu của doanh nghiệp để phục vụ công tác giải thể và yêu cầu các cơ quan nhà nước có liên quan hỗ trợ việc thu hồi tài sản.\n",
      "Khoản 2. Sau khi có quyết định giải thể và đăng báo giải thể doanh nghiệp, Hội đồng giải thể có trách nhiệm:\n",
      "Điểm a) Thu hồi con dấu của doanh nghiệp bị giải thể để phục vụ việc giải thể;\n",
      "Điểm b) Tổ chức giải thể doanh nghiệp theo Quyết định giải thể đã được phê duyệt; cơ quan đại diện chủ sở hữu hoặc Hội đồng thành viên, Chủ tịch công ty trực tiếp tổ chức thanh lý tài sản của doanh nghiệp, trừ trường hợp Điều lệ doanh nghiệp có quy định khác; việc thanh toán các khoản nợ của doanh nghiệp bị giải thể thực hiện theo thứ tự quy định tại khoản 5 Điều 208 Luật Doanh nghiệp;\n",
      "Điểm c) Trong thời hạn 07 ngày làm việc kể từ ngày kết thúc việc giải thể và thanh toán hết các khoản nợ của doanh nghiệp, Hội đồng giải thể phải lập báo cáo tài chính về giải thể doanh nghiệp, trình người quyết định giải thể doanh nghiệp; lập hồ sơ giải thể doanh nghiệp theo các nội dung quy định tại Điều 210 Luật Doanh nghiệp và gửi đến cơ quan đăng ký kinh doanh nơi đã đăng ký doanh nghiệp.\n",
      "Trả lời:\n",
      "Theo các điều khoản được trích dẫn ở trên, Hội đồng giải thể doanh nghiệp do Nhà nước nắm giữ 100% vốn điều lệ có quyền sử dụng con dấu của doanh nghiệp để phục vụ công tác giải thể và yêu cầu các cơ quan nhà nước có liên quan hỗ trợ việc thu hồi tài sản. Quyền hạn này được quy định tại Điều 44 Luật Doanh nghiệp.\n",
      "Elapsed time: 76.77124280000135 seconds\n"
     ]
    }
   ],
   "source": [
    "system_prompt = \"\"\"\n",
    "Bạn là LegalBizAI, AI tư vấn Luật Doanh Nghiệp Việt Nam từ Team 3. Hãy trả lời câu hỏi về Luật Doanh Nghiệp Việt Nam.\n",
    "Hướng dẫn trả lời:\n",
    "•\tVề bản thân và người sáng tạo: Trả lời như nội dung phần SYSTEM, không cần cú pháp Trích dẫn luật, Trả lời.\n",
    "•\tCâu hỏi không liên quan: Từ chối trả lời, nêu lý do LegalBizAI chỉ hỗ trợ Luật Doanh Nghiệp.\n",
    "•\tCâu hỏi liên quan: Trả lời dựa trên Căn cứ luật dưới đây với các điều khoản điểm, các điều được phân cách với nhau bằng chuỗi ---. Câu trả lời gồm chia làm 2 đầu mục \"Trích dẫn luật\" và \"Trả lời\". Phần trích dẫn luật in ra đầy đủ nội toàn bộ dung luật cần thiết để trả lời câu hỏi. Xuống dòng phân cách rõ ràng. Giải thích chi tiết lý do từ căn cứ luật, in đậm chi tiết quan trọng.\"\"\"\n",
    "\n",
    "custom_prompt_template = \"\"\"Câu hỏi: {question}\n",
    "Căn cứ luật:\n",
    "{law_content}\n",
    "\"\"\"\n",
    "\n",
    "\n",
    "def generate_response(input_text: str, max_length: int = 2000) -> str:\n",
    "    conversation = [\n",
    "        {\n",
    "            \"role\": \"system\",\n",
    "            \"content\": system_prompt\n",
    "        },\n",
    "        {\n",
    "            \"role\": \"user\",\n",
    "            \"content\": input_text\n",
    "        },\n",
    "    ]\n",
    "    input_ids = tokenizer.apply_chat_template(\n",
    "        conversation, return_tensors=\"pt\",\n",
    "        add_generation_prompt=True).to(device)\n",
    "    print(\"Input token count=\", input_ids.size(1))\n",
    "    out_ids = model.generate(\n",
    "        input_ids=input_ids,\n",
    "        max_new_tokens=8000,\n",
    "    )\n",
    "    print(input_text)\n",
    "    start_idx = input_ids.size(1)\n",
    "    text = tokenizer.batch_decode(out_ids[:, start_idx:],\n",
    "                                  skip_special_tokens=True)[0].strip()\n",
    "    return text\n",
    "\n",
    "\n",
    "prompt = get_prompt(\n",
    "    \"Hội đồng giải thể doanh nghiệp do Nhà nước nắm giữ 100% vốn điều lệ có được quyền sử dụng con dấu của doanh nghiệp hay không?\",\n",
    "    prompt_template=custom_prompt_template,\n",
    ")\n",
    "elapsed_time = timeit.timeit(\n",
    "    lambda: print(\"VISTRAL ANSER:\", generate_response(prompt)),\n",
    "    number=1,\n",
    ")\n",
    "print(f\"Elapsed time: {elapsed_time} seconds\")"
   ]
  },
  {
   "cell_type": "code",
   "execution_count": 3,
   "metadata": {},
   "outputs": [
    {
     "data": {
      "text/plain": [
       "'Câu hỏi: Vô ý làm chết người tấn công mình\\nCăn cứ luật:\\nĐiều 173. Trách nhiệm của Kiểm soát viên\\nKhoản 1. Tuân thủ đúng pháp luật, Điều lệ công ty, nghị quyết Đại hội đồng cổ đông và đạo đức nghề nghiệp trong thực hiện quyền và nghĩa vụ được giao.\\nKhoản 2. Thực hiện quyền và nghĩa vụ được giao một cách trung thực, cẩn trọng, tốt nhất nhằm bảo đảm lợi ích hợp pháp tối đa của công ty.\\nKhoản 3. Trung thành với lợi ích của công ty và cổ đông; không lạm dụng địa vị, chức vụ và sử dụng thông tin, bí quyết, cơ hội kinh doanh, tài sản khác của công ty để tư lợi hoặc phục vụ lợi ích của tổ chức, cá nhân khác.\\nKhoản 4. Nghĩa vụ khác theo quy định của Luật này và Điều lệ công ty.\\nKhoản 5. Trường hợp vi phạm quy định tại các khoản 1, 2, 3 và 4 Điều này mà gây thiệt hại cho công ty hoặc người khác thì Kiểm soát viên phải chịu trách nhiệm cá nhân hoặc liên đới bồi thường thiệt hại đó. Thu nhập và lợi ích khác mà Kiểm soát viên có được do vi phạm phải hoàn trả cho công ty.\\nKhoản 6. Trường hợp phát hiện có Kiểm soát viên vi phạm trong thực hiện quyền và nghĩa vụ được giao thì phải thông báo bằng văn bản đến Ban kiểm soát; yêu cầu người có hành vi vi phạm chấm dứt hành vi vi phạm và khắc phục hậu quả.\\n-----\\nĐiều 178. Thực hiện góp vốn và cấp giấy chứng nhận phần vốn góp\\nKhoản 1. Thành viên hợp danh và thành viên góp vốn phải góp đủ và đúng hạn số vốn đã cam kết.\\nKhoản 2. Thành viên hợp danh không góp đủ và đúng hạn số vốn đã cam kết gây thiệt hại cho công ty phải chịu trách nhiệm bồi thường thiệt hại cho công ty.\\nKhoản 3. Trường hợp có thành viên góp vốn không góp đủ và đúng hạn số vốn đã cam kết thì số vốn chưa góp đủ được coi là khoản nợ của thành viên đó đối với công ty; trong trường hợp này, thành viên góp vốn có liên quan có thể bị khai trừ khỏi công ty theo quyết định của Hội đồng thành viên.\\nKhoản 4. Tại thời điểm góp đủ số vốn đã cam kết, thành viên được cấp giấy chứng nhận phần vốn góp. Giấy chứng nhận phần vốn góp phải bao gồm các nội dung chủ yếu sau đây:\\nĐiểm a) Tên, mã số doanh nghiệp, địa chỉ trụ sở chính của công ty;\\nĐiểm b) Vốn điều lệ của công ty;\\nĐiểm c) Tên, địa chỉ liên lạc, quốc tịch, số giấy tờ pháp lý của cá nhân đối với thành viên là cá nhân; tên, mã số doanh nghiệp hoặc số giấy tờ pháp lý của tổ chức, địa chỉ trụ sở chính đối với thành viên là tổ chức; loại thành viên;\\nĐiểm d) Giá trị phần vốn góp và loại tài sản góp vốn của thành viên;\\nĐiểm đ) Số và ngày cấp giấy chứng nhận phần vốn góp;\\nĐiểm e) Quyền và nghĩa vụ của người sở hữu giấy chứng nhận phần vốn góp;\\nĐiểm g) Họ, tên, chữ ký của người sở hữu giấy chứng nhận phần vốn góp và của các thành viên hợp danh của công ty.\\nKhoản 5. Trường hợp giấy chứng nhận phần vốn góp bị mất, bị hư hỏng hoặc bị hủy hoại dưới hình thức khác, thành viên được công ty cấp lại giấy chứng nhận phần vốn góp.\\n-----\\nĐiều 8. Chính sách đối với doanh nghiệp kết hợp kinh tế với quốc phòng, an ninh quốc phòng an ninh và người lao động tại doanh nghiệp kết hợp kinh tế với quốc phòng, an ninh\\nKhoản 1. Được hưởng ưu đãi về tiền thuê đất, tiền sử dụng đất và thuế sử dụng đất đối với diện tích đất được giao quản lý, sử dụng phục vụ nhiệm vụ quốc phòng, an ninh theo quy định pháp luật về đất đai, thuế và pháp luật có liên quan.\\nKhoản 2. Được Nhà nước bố trí ngân sách và nguồn lực khác để đảm bảo khoản chi theo định mức quy định gồm: chi quân trang hằng năm, chi xuất ngũ, phục viên, thôi việc theo chế độ hiện hành cho sĩ quan, quân nhân chuyên nghiệp, công nhân quốc phòng, viên chức quốc phòng, hạ sĩ quan, công nhân công an, người làm công tác cơ yếu; các khoản chi trả lương, đóng bảo hiểm xã hội trong thời gian chuẩn bị nghỉ hưu theo chế độ hiện hành cho sĩ quan, quân nhân chuyên nghiệp, công nhân quốc phòng, viên chức quốc phòng, công nhân công an, người làm công tác cơ yếu.\\nDoanh nghiệp thực hiện tính vào chi phí được trừ khi xác định thu nhập chịu thuế thu nhập doanh nghiệp theo quy định của Luật Thuế thu nhập doanh nghiệp và văn bản hướng dẫn đối với các khoản chi phí hoạt động của doanh nghiệp, các khoản chi phục vụ quân sự quốc phòng, an ninh, quan hệ quân dân theo kế hoạch, nhiệm vụ do Bộ Quốc phòng, Bộ Công an trực tiếp hoặc thông qua cơ quan chuyên môn, đơn vị đầu mối trực thuộc giao nhiệm vụ.\\nKhoản 3. Tiền lương của lao động là sĩ quan, quân nhân chuyên nghiệp, công nhân quốc phòng, viên chức quốc phòng, hạ sĩ quan, công nhân công an, người làm công tác cơ yếu được tính phù hợp với quy định về chế độ, chính sách của pháp luật đối với sĩ quan, quân nhân chuyên nghiệp, công nhân quốc phòng, viên chức quốc phòng, hạ sĩ quan, công nhân công an, người làm công tác cơ yếu và căn cứ vào năng suất lao động và kết quả hoạt động sản xuất kinh doanh hàng năm của doanh nghiệp.\\nKhoản 4. Khi thực hiện nhiệm vụ quốc phòng, an ninh, người lao động nếu bị thương hoặc bị chết mà đủ điều kiện, tiêu chuẩn thì được xem xét, xác nhận là người có công với cách mạng theo quy định của pháp luật ưu đãi về người có công với cách mạng; người lao động bị tai nạn lao động thì xét hưởng chế độ tai nạn lao động theo quy định của pháp luật về lao động.\\n'"
      ]
     },
     "execution_count": 3,
     "metadata": {},
     "output_type": "execute_result"
    }
   ],
   "source": [
    "get_prompt(\"Vô ý làm chết người tấn công mình\",\n",
    "           prompt_template=custom_prompt_template)"
   ]
  },
  {
   "cell_type": "code",
   "execution_count": 11,
   "metadata": {},
   "outputs": [
    {
     "name": "stdout",
     "output_type": "stream",
     "text": [
      "Câu hỏi: Phòng Đăng ký kinh doanh phải chuyển tình trạng pháp lý của doanh nghiệp tư nhân trong Cơ sở dữ liệu quốc gia về đăng ký doanh nghiệp sang tình trạng đang làm thủ tục giải thể khi nào?\n",
      "Căn cứ luật:\n",
      "Điều 41. Tình trạng pháp lý của doanh nghiệp\n",
      "Khoản 1. “Tạm ngừng kinh doanh” là tình trạng pháp lý của doanh nghiệp đang trong thời gian thực hiện tạm ngừng kinh doanh theo quy định tại khoản 1 Điều 206 Luật Doanh nghiệp. Ngày chuyển tình trạng pháp lý “Tạm ngừng kinh doanh” là ngày doanh nghiệp đăng ký bắt đầu tạm ngừng kinh doanh. Ngày kết thúc tình trạng pháp lý “Tạm ngừng kinh doanh” là ngày kết thúc thời hạn tạm ngừng kinh doanh mà doanh nghiệp đã thông báo hoặc ngày doanh nghiệp đăng ký tiếp tục kinh doanh trước thời hạn đã thông báo.\n",
      "Khoản 2. “Không còn hoạt động kinh doanh tại địa chỉ đã đăng ký” là tình trạng pháp lý của doanh nghiệp mà qua công tác kiểm tra, xác minh của Cơ quan quản lý thuế và các đơn vị có liên quan không tìm thấy doanh nghiệp tại địa chỉ đã đăng ký. Thông tin về doanh nghiệp không còn hoạt động tại địa chỉ đã đăng ký do Cơ quan quản lý thuế cung cấp cho Cơ quan đăng ký kinh doanh. Việc thay đổi, cập nhật, thời điểm chuyển tình trạng pháp lý và kết thúc tình trạng pháp lý do Cơ quan quản lý thuế quyết định. Cơ quan quản lý thuế có trách nhiệm cung cấp, cập nhật tình trạng pháp lý “Không còn hoạt động kinh doanh tại địa chỉ đã đăng ký” của doanh nghiệp tới Cơ quan đăng ký kinh doanh qua Hệ thống thông tin đăng ký thuế kết nối với Hệ thống thông tin quốc gia về đăng ký doanh nghiệp. Cơ quan đăng ký kinh doanh thực hiện ghi nhận, cập nhật tình trạng pháp lý do Cơ quan quản lý thuế cung cấp vào Cơ sở dữ liệu quốc gia về đăng ký doanh nghiệp.\n",
      "Khoản 3. “Bị thu hồi Giấy chứng nhận đăng ký doanh nghiệp do cưỡng chế về quản lý thuế” là tình trạng pháp lý của doanh nghiệp bị Phòng Đăng ký kinh doanh ra quyết định thu hồi Giấy chứng nhận đăng ký doanh nghiệp theo đề nghị của cơ quan quản lý thuế về thực hiện biện pháp cưỡng chế thi hành quyết định hành chính về quản lý thuế. Ngày chuyển tình trạng pháp lý “Bị thu hồi Giấy chứng nhận đăng ký doanh nghiệp do cưỡng chế về quản lý thuế” là ngày Phòng Đăng ký kinh doanh ra quyết định thu hồi Giấy chứng nhận đăng ký doanh nghiệp. Ngày kết thúc tình trạng pháp lý “Bị thu hồi do cưỡng chế về quản lý thuế” là ngày Phòng Đăng ký kinh doanh khôi phục lại tình trạng pháp lý của doanh nghiệp trên cơ sở văn bản đề nghị của Cơ quan quản lý thuế theo quy định của pháp luật về quản lý thuế.\n",
      "Khoản 4. “Đang làm thủ tục giải thể, đã bị chia, bị hợp nhất, bị sáp nhập” là tình trạng pháp lý của doanh nghiệp đã có nghị quyết, quyết định giải thể theo khoản 3 Điều 208 Luật Doanh nghiệp; doanh nghiệp đã bị Phòng Đăng ký kinh doanh ra quyết định thu hồi Giấy chứng nhận đăng ký doanh nghiệp, trừ trường hợp doanh nghiệp bị thu hồi do cưỡng chế về quản lý thuế; doanh nghiệp bị giải thể theo quyết định của Tòa án theo khoản 1 Điều 209 Luật Doanh nghiệp; doanh nghiệp đã bị chia, bị hợp nhất, bị sáp nhập và đang làm thủ tục quyết toán và chuyển giao nghĩa vụ thuế với Cơ quan thuế do bị chia, bị hợp nhất, bị sáp nhập. Thời gian xác định chuyển tình trạng pháp lý “Đang làm thủ tục giải thể, đã bị chia, bị hợp nhất, bị sáp nhập” là thời điểm Phòng Đăng ký kinh doanh thông báo tình trạng doanh nghiệp đang làm thủ tục giải thể trên Cổng thông tin quốc gia về đăng ký doanh nghiệp; công ty được chia, công ty hợp nhất, công ty nhận sáp nhập được cấp đăng ký doanh nghiệp trên cơ sở chia, hợp nhất, sáp nhập công ty.\n",
      "Khoản 5. “Đang làm thủ tục phá sản” là tình trạng pháp lý của doanh nghiệp đã có quyết định mở thủ tục phá sản của Tòa án theo quy định của pháp luật về phá sản. Thời gian xác định chuyển tình trạng pháp lý “Đang làm thủ tục phá sản” là thời điểm Phòng Đăng ký kinh doanh cập nhật tình trạng doanh nghiệp đang làm thủ tục phá sản trong Cơ sở dữ liệu quốc gia về đăng ký doanh nghiệp.\n",
      "Khoản 6. “Đã giải thể, phá sản, chấm dứt tồn tại” là tình trạng pháp lý của doanh nghiệp đã hoàn thành thủ tục giải thể theo quy định và được Phòng Đăng ký kinh doanh cập nhật tình trạng pháp lý theo khoản 8 Điều 208, khoản 5 Điều 209 Luật Doanh nghiệp; doanh nghiệp có quyết định tuyên bố phá sản của Tòa án theo quy định của pháp luật về phá sản; doanh nghiệp bị chấm dứt tồn tại do bị chia, bị hợp nhất, bị sáp nhập theo khoản 5 Điều 198, khoản 5 Điều 200, khoản 4 Điều 201 Luật Doanh nghiệp. Thời gian xác định chuyển tình trạng pháp lý “Đã giải thể, phá sản, chấm dứt tồn tại” là thời điểm Phòng Đăng ký kinh doanh cập nhật tình trạng pháp lý trên Cơ sở dữ liệu quốc gia về đăng ký doanh nghiệp.\n",
      "Khoản 7. “Đang hoạt động” là tình trạng pháp lý của doanh nghiệp đã được cấp Giấy chứng nhận đăng ký doanh nghiệp mà không thuộc tình trạng pháp lý quy định tại các khoản 1, 2, 3, 4, 5 và 6 Điều này.\n",
      "-----\n",
      "Điều 70. Đăng ký giải thể doanh nghiệp đối với trường hợp quy định tại các điểm a, b và c khoản 1 Điều 207 Luật Doanh nghiệp\n",
      "Khoản 1. Trong thời hạn 07 ngày làm việc kể từ ngày thông qua nghị quyết, quyết định giải thể quy định tại khoản 1 Điều 208 Luật Doanh nghiệp, doanh nghiệp gửi thông báo về việc giải thể doanh nghiệp đến Phòng Đăng ký kinh doanh nơi doanh nghiệp đặt trụ sở chính. Kèm theo thông báo phải có các giấy tờ sau đây:\n",
      "Điểm a) Nghị quyết, quyết định và biên bản họp của Hội đồng thành viên đối với công ty trách nhiệm hữu hạn hai thành viên trở lên, công ty hợp danh, của Đại hội đồng cổ đông đối với công ty cổ phần; nghị quyết, quyết định của chủ sở hữu công ty đối với công ty trách nhiệm hữu hạn một thành viên về việc giải thể doanh nghiệp;\n",
      "Điểm b) Phương án giải quyết nợ (nếu có).\n",
      "Khoản 2. Trong thời hạn 01 ngày làm việc kể từ ngày nhận được thông báo về việc giải thể doanh nghiệp, Phòng Đăng ký kinh doanh phải đăng tải các giấy tờ quy định tại khoản 1 Điều này và thông báo tình trạng doanh nghiệp đang làm thủ tục giải thể trên Cổng thông tin quốc gia về đăng ký doanh nghiệp, chuyển tình trạng pháp lý của doanh nghiệp trong Cơ sở dữ liệu quốc gia về đăng ký doanh nghiệp sang tình trạng đang làm thủ tục giải thể và gửi thông tin về việc giải thể của doanh nghiệp cho Cơ quan thuế. Doanh nghiệp thực hiện thủ tục hoàn thành nghĩa vụ thuế với Cơ quan thuế theo quy định của Luật Quản lý thuế.\n",
      "Khoản 3. Trong thời hạn 05 ngày làm việc kể từ ngày thanh toán hết các khoản nợ của doanh nghiệp, doanh nghiệp gửi hồ sơ đăng ký giải thể doanh nghiệp đến Phòng Đăng ký kinh doanh nơi doanh nghiệp đặt trụ sở chính. Hồ sơ đăng ký giải thể doanh nghiệp bao gồm các giấy tờ quy định tại khoản 1 Điều 210 Luật Doanh nghiệp.\n",
      "Khoản 4. Trước khi nộp hồ sơ đăng ký giải thể doanh nghiệp, doanh nghiệp phải thực hiện thủ tục chấm dứt hoạt động chi nhánh, văn phòng đại diện, địa điểm kinh doanh của doanh nghiệp tại Phòng Đăng ký kinh doanh nơi đặt chi nhánh, văn phòng đại diện, địa điểm kinh doanh.\n",
      "Khoản 5. Sau khi tiếp nhận hồ sơ đăng ký giải thể doanh nghiệp, Phòng Đăng ký kinh doanh gửi thông tin về việc doanh nghiệp đăng ký giải thể cho Cơ quan thuế. Trong thời hạn 02 ngày làm việc kể từ ngày nhận được thông tin của Phòng Đăng ký kinh doanh, Cơ quan thuế gửi ý kiến về việc hoàn thành nghĩa vụ nộp thuế của doanh nghiệp đến Phòng đăng ký kinh doanh. Trong thời hạn 05 ngày làm việc kể từ ngày nhận hồ sơ đăng ký giải thể doanh nghiệp, Phòng Đăng ký kinh doanh chuyển tình trạng pháp lý của doanh nghiệp trong Cơ sở dữ liệu quốc gia về đăng ký doanh nghiệp sang tình trạng đã giải thể nếu không nhận được ý kiến từ chối của Cơ quan thuế, đồng thời ra thông báo về việc giải thể của doanh nghiệp.\n",
      "Khoản 6. Sau thời hạn 180 ngày kể từ ngày Phòng Đăng ký kinh doanh nhận được thông báo kèm theo nghị quyết, quyết định giải thể của doanh nghiệp mà Phòng Đăng ký kinh doanh không nhận được hồ sơ đăng ký giải thể của doanh nghiệp và ý kiến phản đối bằng văn bản của bên có liên quan, Phòng Đăng ký kinh doanh chuyển tình trạng pháp lý của doanh nghiệp trong Cơ sở dữ liệu quốc gia về đăng ký doanh nghiệp sang tình trạng đã giải thể, gửi thông tin về việc giải thể của doanh nghiệp cho Cơ quan thuế, đồng thời ra thông báo về việc giải thể của doanh nghiệp trong thời hạn 03 ngày làm việc kể từ ngày kết thúc thời hạn nêu trên.\n",
      "Khoản 7. Trong thời hạn 180 ngày kể từ ngày nhận được thông báo kèm theo nghị quyết, quyết định giải thể quy định tại Điều 208 Luật Doanh nghiệp và Phòng Đăng ký kinh doanh chưa chuyển tình trạng pháp lý của doanh nghiệp sang tình trạng đã giải thể trong Cơ sở dữ liệu quốc gia về đăng ký doanh nghiệp, nếu doanh nghiệp không tiếp tục thực hiện giải thể, doanh nghiệp gửi thông báo về việc hủy bỏ nghị quyết, quyết định giải thể đến Phòng Đăng ký kinh doanh nơi doanh nghiệp đặt trụ sở chính. Kèm theo thông báo phải có nghị quyết, quyết định của chủ sở hữu công ty đối với công ty trách nhiệm hữu hạn một thành viên, của Hội đồng thành viên đối với công ty trách nhiệm hữu hạn hai thành viên trở lên, công ty hợp danh, của Đại hội đồng cổ đông đối với công ty cổ phần về việc hủy bỏ nghị quyết, quyết định giải thể. Trong thời hạn 03 ngày làm việc kể từ ngày nhận được thông báo về việc hủy bỏ nghị quyết, quyết định giải thể doanh nghiệp, Phòng Đăng ký kinh doanh phải đăng tải thông báo và nghị quyết, quyết định về việc hủy bỏ nghị quyết, quyết định giải thể doanh nghiệp trên Cổng thông tin quốc gia về đăng ký doanh nghiệp, khôi phục tình trạng pháp lý của doanh nghiệp trên Hệ thống thông tin quốc gia về đăng ký doanh nghiệp và gửi thông tin huỷ bỏ nghị quyết, quyết định giải thể của doanh nghiệp cho Cơ quan thuế.\n",
      "Khoản 8. Đối với doanh nghiệp sử dụng con dấu do cơ quan công an cấp, doanh nghiệp có trách nhiệm trả con dấu, Giấy chứng nhận đã đăng ký mẫu con dấu cho cơ quan công an theo quy định khi làm thủ tục giải thể.\n",
      "\n"
     ]
    }
   ],
   "source": [
    "print(\n",
    "    get_prompt(\n",
    "        \"Phòng Đăng ký kinh doanh phải chuyển tình trạng pháp lý của doanh nghiệp tư nhân trong Cơ sở dữ liệu quốc gia về đăng ký doanh nghiệp sang tình trạng đang làm thủ tục giải thể khi nào?\",\n",
    "        prompt_template=custom_prompt_template,\n",
    "    )\n",
    ")"
   ]
  },
  {
   "cell_type": "code",
   "execution_count": 1,
   "metadata": {},
   "outputs": [
    {
     "ename": "NameError",
     "evalue": "name 'get_prompt' is not defined",
     "output_type": "error",
     "traceback": [
      "\u001b[1;31m---------------------------------------------------------------------------\u001b[0m",
      "\u001b[1;31mNameError\u001b[0m                                 Traceback (most recent call last)",
      "Cell \u001b[1;32mIn[1], line 1\u001b[0m\n\u001b[1;32m----> 1\u001b[0m \u001b[38;5;28mprint\u001b[39m(\u001b[43mget_prompt\u001b[49m(\n\u001b[0;32m      2\u001b[0m     \u001b[38;5;124m\"\u001b[39m\u001b[38;5;124mHội đồng giải thể doanh nghiệp do Nhà nước nắm giữ 100\u001b[39m\u001b[38;5;124m%\u001b[39m\u001b[38;5;124m vốn điều lệ có được quyền sử dụng con dấu của doanh nghiệp hay không?\u001b[39m\u001b[38;5;124m\"\u001b[39m,\n\u001b[0;32m      3\u001b[0m     prompt_template\u001b[38;5;241m=\u001b[39mcustom_prompt_template,\n\u001b[0;32m      4\u001b[0m ))\n",
      "\u001b[1;31mNameError\u001b[0m: name 'get_prompt' is not defined"
     ]
    }
   ],
   "source": [
    "print(\n",
    "    get_prompt(\n",
    "        \"Hội đồng giải thể doanh nghiệp do Nhà nước nắm giữ 100% vốn điều lệ có được quyền sử dụng con dấu của doanh nghiệp hay không?\",\n",
    "        prompt_template=custom_prompt_template,\n",
    "    )\n",
    ")"
   ]
  }
 ],
 "metadata": {
  "kernelspec": {
   "display_name": "ai2",
   "language": "python",
   "name": "python3"
  },
  "language_info": {
   "codemirror_mode": {
    "name": "ipython",
    "version": 3
   },
   "file_extension": ".py",
   "mimetype": "text/x-python",
   "name": "python",
   "nbconvert_exporter": "python",
   "pygments_lexer": "ipython3",
   "version": "3.11.8"
  }
 },
 "nbformat": 4,
 "nbformat_minor": 2
}
