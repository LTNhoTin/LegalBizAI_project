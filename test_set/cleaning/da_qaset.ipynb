{
 "cells": [
  {
   "cell_type": "code",
   "execution_count": 801,
   "metadata": {},
   "outputs": [],
   "source": [
    "import pandas as pd\n",
    "import json\n",
    "import re"
   ]
  },
  {
   "cell_type": "code",
   "execution_count": 802,
   "metadata": {},
   "outputs": [],
   "source": [
    "file_path = 'QA.thuvienphapluat.csv'\n",
    "data = pd.read_csv(file_path)"
   ]
  },
  {
   "cell_type": "code",
   "execution_count": 803,
   "metadata": {},
   "outputs": [],
   "source": [
    "# Drop rows missing values\n",
    "data_cleaned = data.dropna()"
   ]
  },
  {
   "cell_type": "code",
   "execution_count": 804,
   "metadata": {},
   "outputs": [
    {
     "name": "stdout",
     "output_type": "stream",
     "text": [
      "Number of rows after cleaning: 5753\n"
     ]
    }
   ],
   "source": [
    "cleaned_row_count = data_cleaned.shape[0]\n",
    "print(f'Number of rows after cleaning: {cleaned_row_count}')"
   ]
  },
  {
   "cell_type": "code",
   "execution_count": 805,
   "metadata": {},
   "outputs": [
    {
     "name": "stderr",
     "output_type": "stream",
     "text": [
      "/var/folders/q6/s8kvyvsx44x8dbnf9_kpzwgc0000gn/T/ipykernel_69762/3004869338.py:12: SettingWithCopyWarning: \n",
      "A value is trying to be set on a copy of a slice from a DataFrame.\n",
      "Try using .loc[row_indexer,col_indexer] = value instead\n",
      "\n",
      "See the caveats in the documentation: https://pandas.pydata.org/pandas-docs/stable/user_guide/indexing.html#returning-a-view-versus-a-copy\n",
      "  data_cleaned[\"references\"] = data_cleaned[\"references\"].apply(transform_references)\n"
     ]
    },
    {
     "data": {
      "text/html": [
       "<div>\n",
       "<style scoped>\n",
       "    .dataframe tbody tr th:only-of-type {\n",
       "        vertical-align: middle;\n",
       "    }\n",
       "\n",
       "    .dataframe tbody tr th {\n",
       "        vertical-align: top;\n",
       "    }\n",
       "\n",
       "    .dataframe thead th {\n",
       "        text-align: right;\n",
       "    }\n",
       "</style>\n",
       "<table border=\"1\" class=\"dataframe\">\n",
       "  <thead>\n",
       "    <tr style=\"text-align: right;\">\n",
       "      <th></th>\n",
       "      <th>question</th>\n",
       "      <th>answer</th>\n",
       "      <th>references</th>\n",
       "    </tr>\n",
       "  </thead>\n",
       "  <tbody>\n",
       "    <tr>\n",
       "      <th>0</th>\n",
       "      <td>Hội đồng giải thể doanh nghiệp do Nhà nước nắm...</td>\n",
       "      <td>Theo quy định tại Điều 44 Nghị định 23/2022/NĐ...</td>\n",
       "      <td>[Điều 44 Nghị định 23/2022/NĐ-CP]</td>\n",
       "    </tr>\n",
       "    <tr>\n",
       "      <th>1</th>\n",
       "      <td>Có được quyền kéo dài thêm thời hạn giải thể d...</td>\n",
       "      <td>Theo quy định tại Điều 47 Nghị định 23/2022/NĐ...</td>\n",
       "      <td>[Điều 47 Nghị định 23/2022/NĐ-CP]</td>\n",
       "    </tr>\n",
       "    <tr>\n",
       "      <th>2</th>\n",
       "      <td>Khi giải thể doanh nghiệp do Nhà nước nắm giữ ...</td>\n",
       "      <td>Theo quy định tại khoản 2 Điều 39 Nghị định 23...</td>\n",
       "      <td>[khoản 2 Điều 39 Nghị định 23/2022/NĐ-CP]</td>\n",
       "    </tr>\n",
       "    <tr>\n",
       "      <th>3</th>\n",
       "      <td>Hồ sơ giải thể doanh nghiệp mới nhất năm 2023 ...</td>\n",
       "      <td>Căn cứ theo quy định tại khoản 1 Điều 210 Luật...</td>\n",
       "      <td>[khoản 1 Điều 210 Luật Doanh nghiệp 2020]</td>\n",
       "    </tr>\n",
       "    <tr>\n",
       "      <th>4</th>\n",
       "      <td>Thứ tự thanh toán khoản nợ của doanh nghiệp gi...</td>\n",
       "      <td>Theo quy định tại khoản 5 Điều 208 Luật Doanh ...</td>\n",
       "      <td>[khoản 5 Điều 208 Luật Doanh nghiệp 2020]</td>\n",
       "    </tr>\n",
       "    <tr>\n",
       "      <th>...</th>\n",
       "      <td>...</td>\n",
       "      <td>...</td>\n",
       "      <td>...</td>\n",
       "    </tr>\n",
       "    <tr>\n",
       "      <th>6684</th>\n",
       "      <td>Cá nhân sản xuất đồ gỗ xây dựng muốn đăng ký h...</td>\n",
       "      <td>Cá nhân sản xuất đồ gỗ xây dựng muốn đăng ký h...</td>\n",
       "      <td>[khoản 2 Điều 87 Nghị định 01/2021/NĐ-CP]</td>\n",
       "    </tr>\n",
       "    <tr>\n",
       "      <th>6686</th>\n",
       "      <td>Tài sản góp vốn khi thành lập doanh nghiệp có ...</td>\n",
       "      <td>Tài sản góp vốn khi thành lập doanh nghiệp đượ...</td>\n",
       "      <td>[Điều 34 Luật Doanh nghiệp 2020]</td>\n",
       "    </tr>\n",
       "    <tr>\n",
       "      <th>6687</th>\n",
       "      <td>Công ty TNHH 2 thành viên trở lên sẽ chia lợi ...</td>\n",
       "      <td>Nguyên tắc chia lợi nhuận cho các thành viên t...</td>\n",
       "      <td>[khoản 2 Điều 24 Luật Doanh nghiệp 2020]</td>\n",
       "    </tr>\n",
       "    <tr>\n",
       "      <th>6688</th>\n",
       "      <td>Điều kiện để công ty TNHH 2 thành viên trở lên...</td>\n",
       "      <td>Để chia lợi nhuận cho các thành viên thì công ...</td>\n",
       "      <td>[Điều 69 Luật Doanh nghiệp 2020]</td>\n",
       "    </tr>\n",
       "    <tr>\n",
       "      <th>6689</th>\n",
       "      <td>Tổng giám đốc công ty TNHH 2 thành viên trở lê...</td>\n",
       "      <td>Việc Tổng giám đốc công ty TNHH 2 thành viên t...</td>\n",
       "      <td>[khoản 2 Điều 63 Luật Doanh nghiệp 2020]</td>\n",
       "    </tr>\n",
       "  </tbody>\n",
       "</table>\n",
       "<p>5753 rows × 3 columns</p>\n",
       "</div>"
      ],
      "text/plain": [
       "                                               question  \\\n",
       "0     Hội đồng giải thể doanh nghiệp do Nhà nước nắm...   \n",
       "1     Có được quyền kéo dài thêm thời hạn giải thể d...   \n",
       "2     Khi giải thể doanh nghiệp do Nhà nước nắm giữ ...   \n",
       "3     Hồ sơ giải thể doanh nghiệp mới nhất năm 2023 ...   \n",
       "4     Thứ tự thanh toán khoản nợ của doanh nghiệp gi...   \n",
       "...                                                 ...   \n",
       "6684  Cá nhân sản xuất đồ gỗ xây dựng muốn đăng ký h...   \n",
       "6686  Tài sản góp vốn khi thành lập doanh nghiệp có ...   \n",
       "6687  Công ty TNHH 2 thành viên trở lên sẽ chia lợi ...   \n",
       "6688  Điều kiện để công ty TNHH 2 thành viên trở lên...   \n",
       "6689  Tổng giám đốc công ty TNHH 2 thành viên trở lê...   \n",
       "\n",
       "                                                 answer  \\\n",
       "0     Theo quy định tại Điều 44 Nghị định 23/2022/NĐ...   \n",
       "1     Theo quy định tại Điều 47 Nghị định 23/2022/NĐ...   \n",
       "2     Theo quy định tại khoản 2 Điều 39 Nghị định 23...   \n",
       "3     Căn cứ theo quy định tại khoản 1 Điều 210 Luật...   \n",
       "4     Theo quy định tại khoản 5 Điều 208 Luật Doanh ...   \n",
       "...                                                 ...   \n",
       "6684  Cá nhân sản xuất đồ gỗ xây dựng muốn đăng ký h...   \n",
       "6686  Tài sản góp vốn khi thành lập doanh nghiệp đượ...   \n",
       "6687  Nguyên tắc chia lợi nhuận cho các thành viên t...   \n",
       "6688  Để chia lợi nhuận cho các thành viên thì công ...   \n",
       "6689  Việc Tổng giám đốc công ty TNHH 2 thành viên t...   \n",
       "\n",
       "                                     references  \n",
       "0             [Điều 44 Nghị định 23/2022/NĐ-CP]  \n",
       "1             [Điều 47 Nghị định 23/2022/NĐ-CP]  \n",
       "2     [khoản 2 Điều 39 Nghị định 23/2022/NĐ-CP]  \n",
       "3     [khoản 1 Điều 210 Luật Doanh nghiệp 2020]  \n",
       "4     [khoản 5 Điều 208 Luật Doanh nghiệp 2020]  \n",
       "...                                         ...  \n",
       "6684  [khoản 2 Điều 87 Nghị định 01/2021/NĐ-CP]  \n",
       "6686           [Điều 34 Luật Doanh nghiệp 2020]  \n",
       "6687   [khoản 2 Điều 24 Luật Doanh nghiệp 2020]  \n",
       "6688           [Điều 69 Luật Doanh nghiệp 2020]  \n",
       "6689   [khoản 2 Điều 63 Luật Doanh nghiệp 2020]  \n",
       "\n",
       "[5753 rows x 3 columns]"
      ]
     },
     "execution_count": 805,
     "metadata": {},
     "output_type": "execute_result"
    }
   ],
   "source": [
    "# Function to transform the 'references' column into a list of references and replace old document names with new one\n",
    "updated_name = \"153/2020/NĐ-CP\"\n",
    "\n",
    "\n",
    "def transform_references(reference_str):\n",
    "    references = reference_str.split(\",\")\n",
    "    return [\n",
    "        ref.strip().replace(\"65/2022/NĐ-CP\", updated_name).replace(\"08/2023/NĐ-CP\", updated_name) for ref in references\n",
    "    ]\n",
    "\n",
    "\n",
    "data_cleaned[\"references\"] = data_cleaned[\"references\"].apply(transform_references)\n",
    "data_cleaned"
   ]
  },
  {
   "cell_type": "code",
   "execution_count": 806,
   "metadata": {},
   "outputs": [
    {
     "name": "stderr",
     "output_type": "stream",
     "text": [
      "/var/folders/q6/s8kvyvsx44x8dbnf9_kpzwgc0000gn/T/ipykernel_69762/2454947037.py:9: SettingWithCopyWarning: \n",
      "A value is trying to be set on a copy of a slice from a DataFrame.\n",
      "Try using .loc[row_indexer,col_indexer] = value instead\n",
      "\n",
      "See the caveats in the documentation: https://pandas.pydata.org/pandas-docs/stable/user_guide/indexing.html#returning-a-view-versus-a-copy\n",
      "  data_cleaned['references'] = data_cleaned['references'].apply(clean_references)\n"
     ]
    }
   ],
   "source": [
    "# Function to clean the 'references' column, keeping only \"Điều ... Luật Doanh nghiệp\" or \"Điều ... Nghị định\"\n",
    "def clean_references(reference_list):\n",
    "    cleaned_references = []\n",
    "    for ref in reference_list:\n",
    "        match = re.search(r'(Điều \\d+ Luật Doanh nghiệp \\d+|Điều \\d+ Nghị định \\d+/\\d+/NĐ-CP)', ref)\n",
    "        if match:\n",
    "            cleaned_references.append(match.group(0))\n",
    "    return cleaned_references\n",
    "data_cleaned['references'] = data_cleaned['references'].apply(clean_references)"
   ]
  },
  {
   "cell_type": "code",
   "execution_count": 807,
   "metadata": {},
   "outputs": [],
   "source": [
    "# Remove rows where the 'references' list is empty after cleaning\n",
    "data_cleaned = data_cleaned[data_cleaned['references'].map(len) > 0]"
   ]
  },
  {
   "cell_type": "code",
   "execution_count": 808,
   "metadata": {},
   "outputs": [
    {
     "name": "stderr",
     "output_type": "stream",
     "text": [
      "/var/folders/q6/s8kvyvsx44x8dbnf9_kpzwgc0000gn/T/ipykernel_69762/3511028552.py:11: SettingWithCopyWarning: \n",
      "A value is trying to be set on a copy of a slice from a DataFrame.\n",
      "Try using .loc[row_indexer,col_indexer] = value instead\n",
      "\n",
      "See the caveats in the documentation: https://pandas.pydata.org/pandas-docs/stable/user_guide/indexing.html#returning-a-view-versus-a-copy\n",
      "  data_cleaned['references'] = data_cleaned['references'].apply(split_references_correctly)\n"
     ]
    }
   ],
   "source": [
    "# Function to split each reference into ['Điều <số>', '<văn bản>']\n",
    "def split_references_correctly(reference_list):\n",
    "    split_refs = []\n",
    "    for ref in reference_list:\n",
    "        if isinstance(ref, str):\n",
    "            match = re.search(r'(Điều \\d+)', ref)\n",
    "            if match:\n",
    "                split_refs.append([match.group(0), ref.replace(match.group(0) + ' ', '')])\n",
    "    return split_refs\n",
    "\n",
    "data_cleaned['references'] = data_cleaned['references'].apply(split_references_correctly)"
   ]
  },
  {
   "cell_type": "code",
   "execution_count": 809,
   "metadata": {},
   "outputs": [
    {
     "data": {
      "text/html": [
       "<div>\n",
       "<style scoped>\n",
       "    .dataframe tbody tr th:only-of-type {\n",
       "        vertical-align: middle;\n",
       "    }\n",
       "\n",
       "    .dataframe tbody tr th {\n",
       "        vertical-align: top;\n",
       "    }\n",
       "\n",
       "    .dataframe thead th {\n",
       "        text-align: right;\n",
       "    }\n",
       "</style>\n",
       "<table border=\"1\" class=\"dataframe\">\n",
       "  <thead>\n",
       "    <tr style=\"text-align: right;\">\n",
       "      <th></th>\n",
       "      <th>question</th>\n",
       "      <th>answer</th>\n",
       "      <th>references</th>\n",
       "    </tr>\n",
       "  </thead>\n",
       "  <tbody>\n",
       "    <tr>\n",
       "      <th>302</th>\n",
       "      <td>Công bố thông tin định kỳ của doanh nghiệp bao...</td>\n",
       "      <td>Căn cứ quy định tại khoản 16 Điều 1 Nghị định ...</td>\n",
       "      <td>[[Điều 1, Nghị định 153/2020/NĐ-CP]]</td>\n",
       "    </tr>\n",
       "    <tr>\n",
       "      <th>1840</th>\n",
       "      <td>Công bố thông tin định kỳ của doanh nghiệp bao...</td>\n",
       "      <td>Căn cứ quy định tại khoản 16 Điều 1 Nghị định ...</td>\n",
       "      <td>[[Điều 1, Nghị định 153/2020/NĐ-CP]]</td>\n",
       "    </tr>\n",
       "    <tr>\n",
       "      <th>3211</th>\n",
       "      <td>Công bố thông tin định kỳ của doanh nghiệp bao...</td>\n",
       "      <td>Căn cứ quy định tại khoản 16 Điều 1 Nghị định ...</td>\n",
       "      <td>[[Điều 1, Nghị định 153/2020/NĐ-CP]]</td>\n",
       "    </tr>\n",
       "    <tr>\n",
       "      <th>4680</th>\n",
       "      <td>Công bố thông tin định kỳ của doanh nghiệp bao...</td>\n",
       "      <td>Căn cứ quy định tại khoản 16 Điều 1 Nghị định ...</td>\n",
       "      <td>[[Điều 1, Nghị định 153/2020/NĐ-CP]]</td>\n",
       "    </tr>\n",
       "  </tbody>\n",
       "</table>\n",
       "</div>"
      ],
      "text/plain": [
       "                                               question  \\\n",
       "302   Công bố thông tin định kỳ của doanh nghiệp bao...   \n",
       "1840  Công bố thông tin định kỳ của doanh nghiệp bao...   \n",
       "3211  Công bố thông tin định kỳ của doanh nghiệp bao...   \n",
       "4680  Công bố thông tin định kỳ của doanh nghiệp bao...   \n",
       "\n",
       "                                                 answer  \\\n",
       "302   Căn cứ quy định tại khoản 16 Điều 1 Nghị định ...   \n",
       "1840  Căn cứ quy định tại khoản 16 Điều 1 Nghị định ...   \n",
       "3211  Căn cứ quy định tại khoản 16 Điều 1 Nghị định ...   \n",
       "4680  Căn cứ quy định tại khoản 16 Điều 1 Nghị định ...   \n",
       "\n",
       "                                references  \n",
       "302   [[Điều 1, Nghị định 153/2020/NĐ-CP]]  \n",
       "1840  [[Điều 1, Nghị định 153/2020/NĐ-CP]]  \n",
       "3211  [[Điều 1, Nghị định 153/2020/NĐ-CP]]  \n",
       "4680  [[Điều 1, Nghị định 153/2020/NĐ-CP]]  "
      ]
     },
     "execution_count": 809,
     "metadata": {},
     "output_type": "execute_result"
    }
   ],
   "source": [
    "data_cleaned[data_cleaned[\"question\"] == \"Công bố thông tin định kỳ của doanh nghiệp bao gồm những tài liệu nào?\"]"
   ]
  },
  {
   "cell_type": "code",
   "execution_count": 810,
   "metadata": {},
   "outputs": [
    {
     "name": "stdout",
     "output_type": "stream",
     "text": [
      "<class 'pandas.core.frame.DataFrame'>\n",
      "Index: 5561 entries, 0 to 6689\n",
      "Data columns (total 3 columns):\n",
      " #   Column      Non-Null Count  Dtype \n",
      "---  ------      --------------  ----- \n",
      " 0   question    5561 non-null   object\n",
      " 1   answer      5561 non-null   object\n",
      " 2   references  5561 non-null   object\n",
      "dtypes: object(3)\n",
      "memory usage: 173.8+ KB\n"
     ]
    }
   ],
   "source": [
    "data_cleaned.info()"
   ]
  },
  {
   "cell_type": "code",
   "execution_count": 811,
   "metadata": {},
   "outputs": [],
   "source": [
    "# Convert each record to JSON format with pretty printing for better readability\n",
    "json_records_cleaned = data_cleaned.to_dict(orient='records')"
   ]
  },
  {
   "cell_type": "code",
   "execution_count": 812,
   "metadata": {},
   "outputs": [
    {
     "name": "stdout",
     "output_type": "stream",
     "text": [
      "JSON data has been saved to qaset.json\n"
     ]
    }
   ],
   "source": [
    "# Write JSON data to file\n",
    "output_path_corrected = 'qaset.json'\n",
    "with open(output_path_corrected, 'w', encoding='utf-8') as file:\n",
    "    json.dump(json_records_cleaned, file, ensure_ascii=False, indent=4)\n",
    "\n",
    "print(f'JSON data has been saved to {output_path_corrected}')"
   ]
  },
  {
   "cell_type": "code",
   "execution_count": 813,
   "metadata": {},
   "outputs": [
    {
     "data": {
      "text/html": [
       "<div>\n",
       "<style scoped>\n",
       "    .dataframe tbody tr th:only-of-type {\n",
       "        vertical-align: middle;\n",
       "    }\n",
       "\n",
       "    .dataframe tbody tr th {\n",
       "        vertical-align: top;\n",
       "    }\n",
       "\n",
       "    .dataframe thead th {\n",
       "        text-align: right;\n",
       "    }\n",
       "</style>\n",
       "<table border=\"1\" class=\"dataframe\">\n",
       "  <thead>\n",
       "    <tr style=\"text-align: right;\">\n",
       "      <th></th>\n",
       "      <th>question</th>\n",
       "      <th>answer</th>\n",
       "      <th>references</th>\n",
       "    </tr>\n",
       "  </thead>\n",
       "  <tbody>\n",
       "    <tr>\n",
       "      <th>0</th>\n",
       "      <td>Hội đồng giải thể doanh nghiệp do Nhà nước nắm...</td>\n",
       "      <td>Theo quy định tại Điều 44 Nghị định 23/2022/NĐ...</td>\n",
       "      <td>[[Điều 44, Nghị định 23/2022/NĐ-CP]]</td>\n",
       "    </tr>\n",
       "    <tr>\n",
       "      <th>1</th>\n",
       "      <td>Có được quyền kéo dài thêm thời hạn giải thể d...</td>\n",
       "      <td>Theo quy định tại Điều 47 Nghị định 23/2022/NĐ...</td>\n",
       "      <td>[[Điều 47, Nghị định 23/2022/NĐ-CP]]</td>\n",
       "    </tr>\n",
       "    <tr>\n",
       "      <th>2</th>\n",
       "      <td>Khi giải thể doanh nghiệp do Nhà nước nắm giữ ...</td>\n",
       "      <td>Theo quy định tại khoản 2 Điều 39 Nghị định 23...</td>\n",
       "      <td>[[Điều 39, Nghị định 23/2022/NĐ-CP]]</td>\n",
       "    </tr>\n",
       "    <tr>\n",
       "      <th>3</th>\n",
       "      <td>Hồ sơ giải thể doanh nghiệp mới nhất năm 2023 ...</td>\n",
       "      <td>Căn cứ theo quy định tại khoản 1 Điều 210 Luật...</td>\n",
       "      <td>[[Điều 210, Luật Doanh nghiệp 2020]]</td>\n",
       "    </tr>\n",
       "    <tr>\n",
       "      <th>4</th>\n",
       "      <td>Thứ tự thanh toán khoản nợ của doanh nghiệp gi...</td>\n",
       "      <td>Theo quy định tại khoản 5 Điều 208 Luật Doanh ...</td>\n",
       "      <td>[[Điều 208, Luật Doanh nghiệp 2020]]</td>\n",
       "    </tr>\n",
       "    <tr>\n",
       "      <th>...</th>\n",
       "      <td>...</td>\n",
       "      <td>...</td>\n",
       "      <td>...</td>\n",
       "    </tr>\n",
       "    <tr>\n",
       "      <th>6684</th>\n",
       "      <td>Cá nhân sản xuất đồ gỗ xây dựng muốn đăng ký h...</td>\n",
       "      <td>Cá nhân sản xuất đồ gỗ xây dựng muốn đăng ký h...</td>\n",
       "      <td>[[Điều 87, Nghị định 01/2021/NĐ-CP]]</td>\n",
       "    </tr>\n",
       "    <tr>\n",
       "      <th>6686</th>\n",
       "      <td>Tài sản góp vốn khi thành lập doanh nghiệp có ...</td>\n",
       "      <td>Tài sản góp vốn khi thành lập doanh nghiệp đượ...</td>\n",
       "      <td>[[Điều 34, Luật Doanh nghiệp 2020]]</td>\n",
       "    </tr>\n",
       "    <tr>\n",
       "      <th>6687</th>\n",
       "      <td>Công ty TNHH 2 thành viên trở lên sẽ chia lợi ...</td>\n",
       "      <td>Nguyên tắc chia lợi nhuận cho các thành viên t...</td>\n",
       "      <td>[[Điều 24, Luật Doanh nghiệp 2020]]</td>\n",
       "    </tr>\n",
       "    <tr>\n",
       "      <th>6688</th>\n",
       "      <td>Điều kiện để công ty TNHH 2 thành viên trở lên...</td>\n",
       "      <td>Để chia lợi nhuận cho các thành viên thì công ...</td>\n",
       "      <td>[[Điều 69, Luật Doanh nghiệp 2020]]</td>\n",
       "    </tr>\n",
       "    <tr>\n",
       "      <th>6689</th>\n",
       "      <td>Tổng giám đốc công ty TNHH 2 thành viên trở lê...</td>\n",
       "      <td>Việc Tổng giám đốc công ty TNHH 2 thành viên t...</td>\n",
       "      <td>[[Điều 63, Luật Doanh nghiệp 2020]]</td>\n",
       "    </tr>\n",
       "  </tbody>\n",
       "</table>\n",
       "<p>5561 rows × 3 columns</p>\n",
       "</div>"
      ],
      "text/plain": [
       "                                               question  \\\n",
       "0     Hội đồng giải thể doanh nghiệp do Nhà nước nắm...   \n",
       "1     Có được quyền kéo dài thêm thời hạn giải thể d...   \n",
       "2     Khi giải thể doanh nghiệp do Nhà nước nắm giữ ...   \n",
       "3     Hồ sơ giải thể doanh nghiệp mới nhất năm 2023 ...   \n",
       "4     Thứ tự thanh toán khoản nợ của doanh nghiệp gi...   \n",
       "...                                                 ...   \n",
       "6684  Cá nhân sản xuất đồ gỗ xây dựng muốn đăng ký h...   \n",
       "6686  Tài sản góp vốn khi thành lập doanh nghiệp có ...   \n",
       "6687  Công ty TNHH 2 thành viên trở lên sẽ chia lợi ...   \n",
       "6688  Điều kiện để công ty TNHH 2 thành viên trở lên...   \n",
       "6689  Tổng giám đốc công ty TNHH 2 thành viên trở lê...   \n",
       "\n",
       "                                                 answer  \\\n",
       "0     Theo quy định tại Điều 44 Nghị định 23/2022/NĐ...   \n",
       "1     Theo quy định tại Điều 47 Nghị định 23/2022/NĐ...   \n",
       "2     Theo quy định tại khoản 2 Điều 39 Nghị định 23...   \n",
       "3     Căn cứ theo quy định tại khoản 1 Điều 210 Luật...   \n",
       "4     Theo quy định tại khoản 5 Điều 208 Luật Doanh ...   \n",
       "...                                                 ...   \n",
       "6684  Cá nhân sản xuất đồ gỗ xây dựng muốn đăng ký h...   \n",
       "6686  Tài sản góp vốn khi thành lập doanh nghiệp đượ...   \n",
       "6687  Nguyên tắc chia lợi nhuận cho các thành viên t...   \n",
       "6688  Để chia lợi nhuận cho các thành viên thì công ...   \n",
       "6689  Việc Tổng giám đốc công ty TNHH 2 thành viên t...   \n",
       "\n",
       "                                references  \n",
       "0     [[Điều 44, Nghị định 23/2022/NĐ-CP]]  \n",
       "1     [[Điều 47, Nghị định 23/2022/NĐ-CP]]  \n",
       "2     [[Điều 39, Nghị định 23/2022/NĐ-CP]]  \n",
       "3     [[Điều 210, Luật Doanh nghiệp 2020]]  \n",
       "4     [[Điều 208, Luật Doanh nghiệp 2020]]  \n",
       "...                                    ...  \n",
       "6684  [[Điều 87, Nghị định 01/2021/NĐ-CP]]  \n",
       "6686   [[Điều 34, Luật Doanh nghiệp 2020]]  \n",
       "6687   [[Điều 24, Luật Doanh nghiệp 2020]]  \n",
       "6688   [[Điều 69, Luật Doanh nghiệp 2020]]  \n",
       "6689   [[Điều 63, Luật Doanh nghiệp 2020]]  \n",
       "\n",
       "[5561 rows x 3 columns]"
      ]
     },
     "execution_count": 813,
     "metadata": {},
     "output_type": "execute_result"
    }
   ],
   "source": [
    "data_cleaned"
   ]
  }
 ],
 "metadata": {
  "kernelspec": {
   "display_name": "venv-metal",
   "language": "python",
   "name": "python3"
  },
  "language_info": {
   "codemirror_mode": {
    "name": "ipython",
    "version": 3
   },
   "file_extension": ".py",
   "mimetype": "text/x-python",
   "name": "python",
   "nbconvert_exporter": "python",
   "pygments_lexer": "ipython3",
   "version": "3.10.14"
  }
 },
 "nbformat": 4,
 "nbformat_minor": 2
}
