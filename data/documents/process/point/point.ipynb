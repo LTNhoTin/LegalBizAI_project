{
 "cells": [
  {
   "cell_type": "code",
   "execution_count": 11,
   "metadata": {},
   "outputs": [],
   "source": [
    "import pandas as pd\n",
    "import json\n",
    "import re"
   ]
  },
  {
   "cell_type": "code",
   "execution_count": 12,
   "metadata": {},
   "outputs": [],
   "source": [
    "with open('/Users/nhotin/Documents/GitHub/LegalBizAI_project/data/documents/process/qaset_rd.json', 'r', encoding='utf-8') as file:\n",
    "    data = json.load(file)\n",
    "df = pd.json_normalize(data)"
   ]
  },
  {
   "cell_type": "code",
   "execution_count": 13,
   "metadata": {},
   "outputs": [],
   "source": [
    "def process_references(references):\n",
    "    if not references:\n",
    "        return references\n",
    "    processed_refs = []\n",
    "    for ref in references:\n",
    "        # Tìm vị trí của từ \"điểm\" đi kèm với chữ cái tiếng Việt\n",
    "        match = re.search(r'điểm [a-zA-ZÀ-ỹ]', ref)\n",
    "        if match:\n",
    "            index = match.start()\n",
    "        else:\n",
    "            # Nếu không tìm thấy \"điểm\" thì tìm \"khoản\" đi kèm với số\n",
    "            match = re.search(r'khoản \\d+', ref)\n",
    "            if match:\n",
    "                index = match.start()\n",
    "            else:\n",
    "                # Nếu không tìm thấy \"khoản\" thì tìm \"Điều\"\n",
    "                index = ref.find(\"Điều\")\n",
    "        if index != -1:\n",
    "            processed_refs.append(ref[index:])\n",
    "        else:\n",
    "            processed_refs.append(ref)  # Giữ nguyên nếu không tìm thấy \"điểm\", \"khoản\" hoặc \"Điều\"\n",
    "    return processed_refs\n",
    "df['references'] = df['references'].apply(process_references)"
   ]
  },
  {
   "cell_type": "code",
   "execution_count": 14,
   "metadata": {},
   "outputs": [],
   "source": [
    "df = df[df['references'].map(lambda x: x != [])]\n",
    "df.dropna(axis=1, how='all', inplace=True)"
   ]
  },
  {
   "cell_type": "code",
   "execution_count": 15,
   "metadata": {},
   "outputs": [
    {
     "data": {
      "text/html": [
       "<div>\n",
       "<style scoped>\n",
       "    .dataframe tbody tr th:only-of-type {\n",
       "        vertical-align: middle;\n",
       "    }\n",
       "\n",
       "    .dataframe tbody tr th {\n",
       "        vertical-align: top;\n",
       "    }\n",
       "\n",
       "    .dataframe thead th {\n",
       "        text-align: right;\n",
       "    }\n",
       "</style>\n",
       "<table border=\"1\" class=\"dataframe\">\n",
       "  <thead>\n",
       "    <tr style=\"text-align: right;\">\n",
       "      <th></th>\n",
       "      <th>question</th>\n",
       "      <th>answer</th>\n",
       "      <th>references</th>\n",
       "    </tr>\n",
       "  </thead>\n",
       "  <tbody>\n",
       "    <tr>\n",
       "      <th>0</th>\n",
       "      <td>Hội đồng giải thể doanh nghiệp do Nhà nước nắm...</td>\n",
       "      <td>Theo quy định tại Điều 44 Nghị định 23/2022/NĐ...</td>\n",
       "      <td>[Điều 44 Nghị định 23/2022/NĐ-CP]</td>\n",
       "    </tr>\n",
       "    <tr>\n",
       "      <th>1</th>\n",
       "      <td>Có được quyền kéo dài thêm thời hạn giải thể d...</td>\n",
       "      <td>Theo quy định tại Điều 47 Nghị định 23/2022/NĐ...</td>\n",
       "      <td>[Điều 47 Nghị định 23/2022/NĐ-CP]</td>\n",
       "    </tr>\n",
       "    <tr>\n",
       "      <th>2</th>\n",
       "      <td>Khi giải thể doanh nghiệp do Nhà nước nắm giữ ...</td>\n",
       "      <td>Theo quy định tại khoản 2 Điều 39 Nghị định 23...</td>\n",
       "      <td>[khoản 2 Điều 39 Nghị định 23/2022/NĐ-CP]</td>\n",
       "    </tr>\n",
       "    <tr>\n",
       "      <th>3</th>\n",
       "      <td>Hồ sơ giải thể doanh nghiệp mới nhất năm 2023 ...</td>\n",
       "      <td>Căn cứ theo quy định tại khoản 1 Điều 210 Luật...</td>\n",
       "      <td>[khoản 1 Điều 210 Luật Doanh nghiệp 2020]</td>\n",
       "    </tr>\n",
       "    <tr>\n",
       "      <th>4</th>\n",
       "      <td>Thứ tự thanh toán khoản nợ của doanh nghiệp gi...</td>\n",
       "      <td>Theo quy định tại khoản 5 Điều 208 Luật Doanh ...</td>\n",
       "      <td>[khoản 5 Điều 208 Luật Doanh nghiệp 2020]</td>\n",
       "    </tr>\n",
       "  </tbody>\n",
       "</table>\n",
       "</div>"
      ],
      "text/plain": [
       "                                            question  \\\n",
       "0  Hội đồng giải thể doanh nghiệp do Nhà nước nắm...   \n",
       "1  Có được quyền kéo dài thêm thời hạn giải thể d...   \n",
       "2  Khi giải thể doanh nghiệp do Nhà nước nắm giữ ...   \n",
       "3  Hồ sơ giải thể doanh nghiệp mới nhất năm 2023 ...   \n",
       "4  Thứ tự thanh toán khoản nợ của doanh nghiệp gi...   \n",
       "\n",
       "                                              answer  \\\n",
       "0  Theo quy định tại Điều 44 Nghị định 23/2022/NĐ...   \n",
       "1  Theo quy định tại Điều 47 Nghị định 23/2022/NĐ...   \n",
       "2  Theo quy định tại khoản 2 Điều 39 Nghị định 23...   \n",
       "3  Căn cứ theo quy định tại khoản 1 Điều 210 Luật...   \n",
       "4  Theo quy định tại khoản 5 Điều 208 Luật Doanh ...   \n",
       "\n",
       "                                  references  \n",
       "0          [Điều 44 Nghị định 23/2022/NĐ-CP]  \n",
       "1          [Điều 47 Nghị định 23/2022/NĐ-CP]  \n",
       "2  [khoản 2 Điều 39 Nghị định 23/2022/NĐ-CP]  \n",
       "3  [khoản 1 Điều 210 Luật Doanh nghiệp 2020]  \n",
       "4  [khoản 5 Điều 208 Luật Doanh nghiệp 2020]  "
      ]
     },
     "execution_count": 15,
     "metadata": {},
     "output_type": "execute_result"
    }
   ],
   "source": [
    "df.head()"
   ]
  },
  {
   "cell_type": "code",
   "execution_count": null,
   "metadata": {},
   "outputs": [],
   "source": []
  }
 ],
 "metadata": {
  "kernelspec": {
   "display_name": "venv-metal",
   "language": "python",
   "name": "python3"
  },
  "language_info": {
   "codemirror_mode": {
    "name": "ipython",
    "version": 3
   },
   "file_extension": ".py",
   "mimetype": "text/x-python",
   "name": "python",
   "nbconvert_exporter": "python",
   "pygments_lexer": "ipython3",
   "version": "3.10.14"
  }
 },
 "nbformat": 4,
 "nbformat_minor": 2
}
