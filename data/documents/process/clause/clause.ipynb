{
 "cells": [
  {
   "cell_type": "code",
   "execution_count": 81,
   "metadata": {},
   "outputs": [],
   "source": [
    "import pandas as pd\n",
    "import json\n",
    "import re"
   ]
  },
  {
   "cell_type": "code",
   "execution_count": 82,
   "metadata": {},
   "outputs": [],
   "source": [
    "with open('/Users/nhotin/Documents/GitHub/LegalBizAI_project/data/documents/process/qaset_rd.json', 'r', encoding='utf-8') as file:\n",
    "    data = json.load(file)\n",
    "df = pd.json_normalize(data)"
   ]
  },
  {
   "cell_type": "code",
   "execution_count": 83,
   "metadata": {},
   "outputs": [],
   "source": [
    "def process_references(references):\n",
    "    if not references:\n",
    "        return references\n",
    "    processed_refs = []\n",
    "    for ref in references:\n",
    "        # Tìm vị trí của từ \"khoản\" đi kèm với số\n",
    "        match = re.search(r'khoản \\d+', ref)\n",
    "        if match:\n",
    "            index = match.start()\n",
    "        else:\n",
    "            # Nếu không tìm thấy \"khoản\" thì tìm \"Điều\"\n",
    "            index = ref.find(\"Điều\")\n",
    "        if index != -1:\n",
    "            processed_refs.append(ref[index:])\n",
    "        else:\n",
    "            processed_refs.append(ref)  # Giữ nguyên nếu không tìm thấy \"khoản\" hoặc \"Điều\"\n",
    "    return processed_refs"
   ]
  },
  {
   "cell_type": "code",
   "execution_count": 84,
   "metadata": {},
   "outputs": [],
   "source": [
    "def split_references(references):\n",
    "    if not references:\n",
    "        return None\n",
    "    split_refs = []\n",
    "    for ref in references:\n",
    "        # Tìm các phần \"khoản\" và \"Điều\"\n",
    "        match_khoan = re.search(r'khoản \\d+', ref)\n",
    "        match_dieu = re.search(r'Điều \\d+', ref)\n",
    "        if match_khoan and match_dieu:\n",
    "            part_khoan = match_khoan.group(0)\n",
    "            part_dieu = match_dieu.group(0)\n",
    "            # Tạo chuỗi \"khoản ... Điều ...\"\n",
    "            part = f\"{part_khoan} {part_dieu}\"\n",
    "            # Tìm phần còn lại của luật hoặc nghị định\n",
    "            law = ref.replace(part_khoan, '').replace(part_dieu, '').strip(', ').strip()\n",
    "            split_refs.append([part, law])\n",
    "        elif match_dieu:\n",
    "            part_dieu = match_dieu.group(0)\n",
    "            law = ref.replace(part_dieu, '').strip(', ').strip()\n",
    "            split_refs.append([part_dieu, law])\n",
    "    return split_refs if split_refs else None"
   ]
  },
  {
   "cell_type": "code",
   "execution_count": 85,
   "metadata": {},
   "outputs": [],
   "source": [
    "df['references'] = df['references'].apply(process_references)\n",
    "df['references'] = df['references'].apply(split_references)"
   ]
  },
  {
   "cell_type": "code",
   "execution_count": 86,
   "metadata": {},
   "outputs": [],
   "source": [
    "df = df[df['references'].map(lambda x: x != [])]\n",
    "df = df[df['references'].notna()]\n",
    "df.dropna(axis=1, how='all', inplace=True)"
   ]
  },
  {
   "cell_type": "code",
   "execution_count": 87,
   "metadata": {},
   "outputs": [
    {
     "data": {
      "text/html": [
       "<div>\n",
       "<style scoped>\n",
       "    .dataframe tbody tr th:only-of-type {\n",
       "        vertical-align: middle;\n",
       "    }\n",
       "\n",
       "    .dataframe tbody tr th {\n",
       "        vertical-align: top;\n",
       "    }\n",
       "\n",
       "    .dataframe thead th {\n",
       "        text-align: right;\n",
       "    }\n",
       "</style>\n",
       "<table border=\"1\" class=\"dataframe\">\n",
       "  <thead>\n",
       "    <tr style=\"text-align: right;\">\n",
       "      <th></th>\n",
       "      <th>question</th>\n",
       "      <th>answer</th>\n",
       "      <th>references</th>\n",
       "    </tr>\n",
       "  </thead>\n",
       "  <tbody>\n",
       "    <tr>\n",
       "      <th>0</th>\n",
       "      <td>Hội đồng giải thể doanh nghiệp do Nhà nước nắm...</td>\n",
       "      <td>Theo quy định tại Điều 44 Nghị định 23/2022/NĐ...</td>\n",
       "      <td>[[Điều 44, Nghị định 23/2022/NĐ-CP]]</td>\n",
       "    </tr>\n",
       "    <tr>\n",
       "      <th>1</th>\n",
       "      <td>Có được quyền kéo dài thêm thời hạn giải thể d...</td>\n",
       "      <td>Theo quy định tại Điều 47 Nghị định 23/2022/NĐ...</td>\n",
       "      <td>[[Điều 47, Nghị định 23/2022/NĐ-CP]]</td>\n",
       "    </tr>\n",
       "    <tr>\n",
       "      <th>2</th>\n",
       "      <td>Khi giải thể doanh nghiệp do Nhà nước nắm giữ ...</td>\n",
       "      <td>Theo quy định tại khoản 2 Điều 39 Nghị định 23...</td>\n",
       "      <td>[[khoản 2 Điều 39, Nghị định 23/2022/NĐ-CP]]</td>\n",
       "    </tr>\n",
       "    <tr>\n",
       "      <th>3</th>\n",
       "      <td>Hồ sơ giải thể doanh nghiệp mới nhất năm 2023 ...</td>\n",
       "      <td>Căn cứ theo quy định tại khoản 1 Điều 210 Luật...</td>\n",
       "      <td>[[khoản 1 Điều 210, Luật Doanh nghiệp 2020]]</td>\n",
       "    </tr>\n",
       "    <tr>\n",
       "      <th>4</th>\n",
       "      <td>Thứ tự thanh toán khoản nợ của doanh nghiệp gi...</td>\n",
       "      <td>Theo quy định tại khoản 5 Điều 208 Luật Doanh ...</td>\n",
       "      <td>[[khoản 5 Điều 208, Luật Doanh nghiệp 2020]]</td>\n",
       "    </tr>\n",
       "  </tbody>\n",
       "</table>\n",
       "</div>"
      ],
      "text/plain": [
       "                                            question  \\\n",
       "0  Hội đồng giải thể doanh nghiệp do Nhà nước nắm...   \n",
       "1  Có được quyền kéo dài thêm thời hạn giải thể d...   \n",
       "2  Khi giải thể doanh nghiệp do Nhà nước nắm giữ ...   \n",
       "3  Hồ sơ giải thể doanh nghiệp mới nhất năm 2023 ...   \n",
       "4  Thứ tự thanh toán khoản nợ của doanh nghiệp gi...   \n",
       "\n",
       "                                              answer  \\\n",
       "0  Theo quy định tại Điều 44 Nghị định 23/2022/NĐ...   \n",
       "1  Theo quy định tại Điều 47 Nghị định 23/2022/NĐ...   \n",
       "2  Theo quy định tại khoản 2 Điều 39 Nghị định 23...   \n",
       "3  Căn cứ theo quy định tại khoản 1 Điều 210 Luật...   \n",
       "4  Theo quy định tại khoản 5 Điều 208 Luật Doanh ...   \n",
       "\n",
       "                                     references  \n",
       "0          [[Điều 44, Nghị định 23/2022/NĐ-CP]]  \n",
       "1          [[Điều 47, Nghị định 23/2022/NĐ-CP]]  \n",
       "2  [[khoản 2 Điều 39, Nghị định 23/2022/NĐ-CP]]  \n",
       "3  [[khoản 1 Điều 210, Luật Doanh nghiệp 2020]]  \n",
       "4  [[khoản 5 Điều 208, Luật Doanh nghiệp 2020]]  "
      ]
     },
     "execution_count": 87,
     "metadata": {},
     "output_type": "execute_result"
    }
   ],
   "source": [
    "df.head()"
   ]
  },
  {
   "cell_type": "code",
   "execution_count": 88,
   "metadata": {},
   "outputs": [],
   "source": [
    "with open('/Users/nhotin/Documents/GitHub/LegalBizAI_project/data/documents/process/clause/qaset_clause.json', 'w', encoding='utf-8') as file:\n",
    "    json.dump(df.to_dict(orient='records'), file, ensure_ascii=False, indent=4)"
   ]
  }
 ],
 "metadata": {
  "kernelspec": {
   "display_name": "venv-metal",
   "language": "python",
   "name": "python3"
  },
  "language_info": {
   "codemirror_mode": {
    "name": "ipython",
    "version": 3
   },
   "file_extension": ".py",
   "mimetype": "text/x-python",
   "name": "python",
   "nbconvert_exporter": "python",
   "pygments_lexer": "ipython3",
   "version": "3.10.14"
  }
 },
 "nbformat": 4,
 "nbformat_minor": 2
}
