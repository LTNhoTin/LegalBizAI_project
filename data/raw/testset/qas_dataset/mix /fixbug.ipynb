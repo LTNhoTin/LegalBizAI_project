{
 "cells": [
  {
   "cell_type": "code",
   "execution_count": 34,
   "metadata": {},
   "outputs": [
    {
     "name": "stdout",
     "output_type": "stream",
     "text": [
      "Các điều luật bị thiếu:\n"
     ]
    }
   ],
   "source": [
    "import json\n",
    "\n",
    "# Đọc dữ liệu từ file JSON\n",
    "file_path = '/Users/nhotin/Documents/GitHub/LegalBizAI_project/data/testset/qas_dataset/mix /all_chunks_by_clauseWarticle.json'\n",
    "with open(file_path, 'r', encoding='utf-8') as file:\n",
    "    data = json.load(file)\n",
    "\n",
    "# Lấy ra danh sách các tiêu đề điều luật trong khoảng id từ 0 đến 904\n",
    "titles = [item['title'] for item in data if 0 <= item['id'] <= 904]\n",
    "\n",
    "all_dieu = [f\"Điều {i} Luật Doanh nghiệp 2020\" for i in range(1,218 )]  \n",
    "\n",
    "# Tìm các điều luật bị thiếu\n",
    "missing_dieu = [dieu for dieu in all_dieu if dieu not in titles]\n",
    "\n",
    "# In ra các điều luật bị thiếu\n",
    "print(\"Các điều luật bị thiếu:\")\n",
    "for dieu in missing_dieu:\n",
    "    print(dieu)\n"
   ]
  },
  {
   "cell_type": "code",
   "execution_count": 35,
   "metadata": {},
   "outputs": [
    {
     "name": "stdout",
     "output_type": "stream",
     "text": [
      "Các điều luật bị thiếu:\n"
     ]
    }
   ],
   "source": [
    "titles = [item['title'] for item in data if 905 <= item['id'] <= 951]\n",
    "\n",
    "all_dieu = [f\"Điều {i} Nghị định 16/2023/NĐ-CP\" for i in range(1,16 )]  \n",
    "\n",
    "# Tìm các điều luật bị thiếu\n",
    "missing_dieu = [dieu for dieu in all_dieu if dieu not in titles]\n",
    "\n",
    "# In ra các điều luật bị thiếu\n",
    "print(\"Các điều luật bị thiếu:\")\n",
    "for dieu in missing_dieu:\n",
    "    print(dieu)\n"
   ]
  },
  {
   "cell_type": "code",
   "execution_count": 36,
   "metadata": {},
   "outputs": [
    {
     "name": "stdout",
     "output_type": "stream",
     "text": [
      "Các điều luật bị thiếu:\n"
     ]
    }
   ],
   "source": [
    "titles = [item['title'] for item in data if 952 <= item['id'] <= 1126]\n",
    "\n",
    "all_dieu = [f\"Điều {i} Nghị định 23/2022/NĐ-CP\" for i in range(1,55 )]  \n",
    "\n",
    "# Tìm các điều luật bị thiếu\n",
    "missing_dieu = [dieu for dieu in all_dieu if dieu not in titles]\n",
    "\n",
    "# In ra các điều luật bị thiếu\n",
    "print(\"Các điều luật bị thiếu:\")\n",
    "for dieu in missing_dieu:\n",
    "    print(dieu)\n"
   ]
  },
  {
   "cell_type": "code",
   "execution_count": 37,
   "metadata": {},
   "outputs": [
    {
     "name": "stdout",
     "output_type": "stream",
     "text": [
      "Các điều luật bị thiếu:\n"
     ]
    }
   ],
   "source": [
    "titles = [item['title'] for item in data if 1127 <= item['id'] <= 1367]\n",
    "\n",
    "all_dieu = [f\"Điều {i} Nghị định 122/2021/NĐ-CP\" for i in range(1,82 )]  \n",
    "\n",
    "# Tìm các điều luật bị thiếu\n",
    "missing_dieu = [dieu for dieu in all_dieu if dieu not in titles]\n",
    "\n",
    "# In ra các điều luật bị thiếu\n",
    "print(\"Các điều luật bị thiếu:\")\n",
    "for dieu in missing_dieu:\n",
    "    print(dieu)\n"
   ]
  },
  {
   "cell_type": "code",
   "execution_count": 38,
   "metadata": {},
   "outputs": [
    {
     "name": "stdout",
     "output_type": "stream",
     "text": [
      "Các điều luật bị thiếu:\n"
     ]
    }
   ],
   "source": [
    "titles = [item['title'] for item in data if 1368 <= item['id'] <= 1480]\n",
    "\n",
    "all_dieu = [f\"Điều {i} Nghị định 47/2021/NĐ-CP\" for i in range(1,35 )]  \n",
    "\n",
    "# Tìm các điều luật bị thiếu\n",
    "missing_dieu = [dieu for dieu in all_dieu if dieu not in titles]\n",
    "\n",
    "# In ra các điều luật bị thiếu\n",
    "print(\"Các điều luật bị thiếu:\")\n",
    "for dieu in missing_dieu:\n",
    "    print(dieu)\n"
   ]
  },
  {
   "cell_type": "code",
   "execution_count": 39,
   "metadata": {},
   "outputs": [
    {
     "name": "stdout",
     "output_type": "stream",
     "text": [
      "Các điều luật bị thiếu:\n"
     ]
    }
   ],
   "source": [
    "titles = [item['title'] for item in data if 1481 <= item['id'] <= 1876]\n",
    "\n",
    "all_dieu = [f\"Điều {i} Nghị định 01/2021/NĐ-CP\" for i in range(1,101 )]  \n",
    "\n",
    "# Tìm các điều luật bị thiếu\n",
    "missing_dieu = [dieu for dieu in all_dieu if dieu not in titles]\n",
    "\n",
    "# In ra các điều luật bị thiếu\n",
    "print(\"Các điều luật bị thiếu:\")\n",
    "for dieu in missing_dieu:\n",
    "    print(dieu)\n"
   ]
  },
  {
   "cell_type": "code",
   "execution_count": 40,
   "metadata": {},
   "outputs": [
    {
     "name": "stdout",
     "output_type": "stream",
     "text": [
      "Các điều luật bị thiếu:\n"
     ]
    }
   ],
   "source": [
    "# Lấy ra danh sách các tiêu đề điều luật trong khoảng id từ 0 đến 904\n",
    "titles = [item['title'] for item in data if 1877 <= item['id'] <= 2039 ]\n",
    "\n",
    "all_dieu = [f\"Điều {i} Nghị định 153/2020/NĐ-CP\" for i in range(1,45)]  \n",
    "\n",
    "# Tìm các điều luật bị thiếu\n",
    "missing_dieu = [dieu for dieu in all_dieu if dieu not in titles]\n",
    "\n",
    "# In ra các điều luật bị thiếu\n",
    "print(\"Các điều luật bị thiếu:\")\n",
    "for dieu in missing_dieu:\n",
    "    print(dieu)"
   ]
  },
  {
   "cell_type": "code",
   "execution_count": 41,
   "metadata": {},
   "outputs": [
    {
     "name": "stdout",
     "output_type": "stream",
     "text": [
      "Đánh lại ID và ghi dữ liệu vào file all_chunks_by_clauseWarticle.json thành công.\n"
     ]
    }
   ],
   "source": [
    "for index, item in enumerate(data):\n",
    "    item['id'] = index\n",
    "\n",
    "# Ghi lại dữ liệu vào file JSON cùng tên\n",
    "with open(file_path, 'w', encoding='utf-8') as file:\n",
    "    json.dump(data, file, ensure_ascii=False, indent=4)\n",
    "\n",
    "print(\"Đánh lại ID và ghi dữ liệu vào file all_chunks_by_clauseWarticle.json thành công.\")"
   ]
  }
 ],
 "metadata": {
  "kernelspec": {
   "display_name": "metal",
   "language": "python",
   "name": "python3"
  },
  "language_info": {
   "codemirror_mode": {
    "name": "ipython",
    "version": 3
   },
   "file_extension": ".py",
   "mimetype": "text/x-python",
   "name": "python",
   "nbconvert_exporter": "python",
   "pygments_lexer": "ipython3",
   "version": "3.10.14"
  }
 },
 "nbformat": 4,
 "nbformat_minor": 2
}
